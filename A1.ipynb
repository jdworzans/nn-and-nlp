{
 "cells": [
  {
   "cell_type": "markdown",
   "metadata": {
    "cell_id": "96afc4de-06c2-44b0-9e0d-ec1df865f0dd",
    "deepnote_app_coordinates": {
     "h": 5,
     "w": 12,
     "x": 0,
     "y": 0
    },
    "deepnote_cell_type": "text-cell-h1",
    "is_collapsed": false,
    "tags": []
   },
   "source": [
    "# NN 2022"
   ]
  },
  {
   "cell_type": "markdown",
   "metadata": {
    "cell_id": "00001-caefeb56-f9c5-4f9e-a096-b89246dc63d7",
    "deepnote_app_coordinates": {
     "h": 5,
     "w": 12,
     "x": 0,
     "y": 6
    },
    "deepnote_cell_type": "markdown",
    "id": "CGXgWugfJ0Vl"
   },
   "source": [
    "## Assignment 1\n",
    "\n",
    "**Submission deadlines:** \n",
    "- get at least **2** points by Tuesday, 15.03.2022\n",
    "- remaining points: last lab session before or on Tuesday, 22.03.2022\n",
    "\n",
    "**Points:** Aim to get 8 out of 12 possible points\n",
    "\n",
    "## Submission instructions\n",
    "The class is held on-site in lab rooms. Please prepare you notebook on your computer or anywhere in the cloud (try using DeepNote or Google Colab).\n",
    "Make sure you know all the questions and asnwers, and that the notebook contains results; bfore presentation do `Runtime -> Restart and run all`\n",
    "![Picture title](image-20220302-183151.png)\n",
    "\n",
    "We provide starter code, however you are not required to use it as long as you properly solve the tasks.\n"
   ]
  },
  {
   "cell_type": "markdown",
   "metadata": {
    "cell_id": "00002-c92cc86e-f65f-4e16-9124-9ca4d4265c88",
    "deepnote_app_coordinates": {
     "h": 5,
     "w": 12,
     "x": 0,
     "y": 12
    },
    "deepnote_cell_type": "markdown",
    "id": "5S8iRaCPyO2a"
   },
   "source": [
    "# Task description\n",
    "\n",
    "## TLDR\n",
    "Implement and train a neural network using pure numpy."
   ]
  },
  {
   "cell_type": "markdown",
   "metadata": {
    "cell_id": "00003-1893a0a0-4515-4960-bce8-37f660543eea",
    "deepnote_app_coordinates": {
     "h": 5,
     "w": 12,
     "x": 0,
     "y": 18
    },
    "deepnote_cell_type": "markdown",
    "id": "JHcz7I2V-bVM"
   },
   "source": [
    "\n",
    "## Problem 1 [2p]\n",
    "Implement a two-layer network, manually set weights and biases to solve the XOR task.\n",
    "\n",
    "A two-layer neural network implementes a function $f: \\mathbb{R}^D \\rightarrow \\mathbb{R}^O$ where $D$ is the input dimensionality and $O$ is the output dinemsionality. The output goes through an intermediate representation (the hidden layer) with dimensionality $H$. \n",
    "\n",
    "The computations are as follows:\n",
    "$$\n",
    "\\begin{aligned}\n",
    "A_1 &= x W_1^T + b_1  & \\qquad\\text{Total input to neurons in the hidden layer (network's first layer)} \\\\\n",
    "O_1 &= \\sigma_1(A_1)  & \\qquad\\text{Output of the hidden layer} \\\\\n",
    "A_2 &= O_1 W_2^T + b_2 & \\qquad\\text{Total input to neurons in the output layer (network's second layer)}\\\\\n",
    "O_2 &= \\sigma_2(A_2)  & \\qquad\\text{Output of the network}\n",
    "\\end{aligned}\n",
    "$$\n",
    "\n",
    "Where $W$ are weight matrices, $b$ are bias vectors, $\\sigma$ are non-linear activation functions (e.g. the logistic sigmoid applied element-wise, or softmax).\n",
    "\n",
    "For the 2D xor problem the network will:\n",
    "- have 2 inputs, 2 hidden neurons, one output\n",
    "- use the logistic sigmoid everywhere (that way we, when hand-designig the weights, we can assume that neurons' outputs are binary).\n",
    "\n",
    "Therrefore the shapes of the data flowing through the network will be:\n",
    "- input: $x\\in\\mathbb{}R^{2}$\n",
    "- hidden layer parameters: $W_1\\in\\mathbb{}R^{2\\times 2}$ and $b_1\\in\\mathbb{}R^{2}$\n",
    "- representations in the hidden layer: $A_1\\in\\mathbb{}R^{2}$ and $O_1\\in\\mathbb{}R^{2}$\n",
    "- output layer parameters: $W_2\\in\\mathbb{}R^{1\\times 2}$ and $b_2\\in\\mathbb{}R^{1}$\n",
    "- representations in the output layer: $A_2\\in\\mathbb{}R^{1}$ and $O_2\\in\\mathbb{}R^{1}$\n",
    "\n",
    "The network can be seen as a logistic regression model, prefixed by a nonlinear transformation of the data.\n",
    "\n",
    "The first tasks consists of:\n",
    "- implementing the network\n",
    "- selecting parametwrs ($W_1, b_1, W_2, b_2$) such that $f(x)\\approx XOR(x_1, x_2)$ where the approximation is die to the sigmoids - the output may be close to 0 or 1, but doesn't need to saturate at 0 or 1.\n",
    "\n",
    "NB: the convention on weight matrix shapes follows linear [layers in PyTorch](https://pytorch.org/docs/stable/generated/torch.nn.Linear.html).\n"
   ]
  },
  {
   "cell_type": "markdown",
   "metadata": {
    "cell_id": "00004-0d502510-cfd1-44da-b88c-da6aaf275617",
    "deepnote_app_coordinates": {
     "h": 5,
     "w": 12,
     "x": 0,
     "y": 24
    },
    "deepnote_cell_type": "markdown",
    "id": "0QSpZxuH-bLe"
   },
   "source": [
    "## Problem 2 [2p]\n",
    "1. Add a backward pass.\n",
    "2. Use a sensible random initialization for weights and biases.\n",
    "3. Numerically check the correctness of your gradient computation.\n",
    "\n",
    "There is nice article about taking derivative over vectors and vector chain rule: https://explained.ai/matrix-calculus/ if someone don't have experience with suchr calculus.\n"
   ]
  },
  {
   "cell_type": "markdown",
   "metadata": {
    "cell_id": "00005-96083315-f850-4103-946e-cc9b11377543",
    "deepnote_app_coordinates": {
     "h": 5,
     "w": 12,
     "x": 0,
     "y": 30
    },
    "deepnote_cell_type": "markdown",
    "id": "s1Tn8j0m-bAy"
   },
   "source": [
    "## Problem 3 [2p]\n",
    "1. Implement gradient descent\n",
    "2. Train your network to solve 3D XOR\n",
    "3. Try several hidden layer sizes, for each size record the fracton of successful trainings. Then answer:\n",
    "    - What is the minimal hidden size required to solve 3D XOR (even with low reliability, when the training has to be repeated multiple times)\n",
    "    - What is the minimal hidden size required to reliably solve 3D XOR\n",
    "    - Which networks are easier to train - small or large ones? Why?\n"
   ]
  },
  {
   "cell_type": "markdown",
   "metadata": {
    "cell_id": "00006-94cc4eb9-0202-4308-9a9e-007db44a6a98",
    "deepnote_app_coordinates": {
     "h": 5,
     "w": 12,
     "x": 0,
     "y": 36
    },
    "deepnote_cell_type": "markdown",
    "id": "RP9Pvpmf-a2A"
   },
   "source": [
    "## Problem 4 [1p]\n",
    "Replace the first nonlinearity with the [ReLU](https://en.wikipedia.org/wiki/Rectifier_(neural_networks)) activation function. Find a network architecture which reliably learns the 3D XOR problem.\n"
   ]
  },
  {
   "cell_type": "markdown",
   "metadata": {
    "cell_id": "00007-9e6e984c-5131-4333-837b-7e57c4bfb650",
    "deepnote_app_coordinates": {
     "h": 5,
     "w": 12,
     "x": 0,
     "y": 42
    },
    "deepnote_cell_type": "markdown",
    "id": "cGgtpe-w-asB"
   },
   "source": [
    "## Problem 5 [1p]\n",
    "Add a second hidden layer to your network, implement the forward and backward pass, then demonstrate training.\n"
   ]
  },
  {
   "cell_type": "markdown",
   "metadata": {
    "cell_id": "00008-86ea4bdd-83dc-4197-baad-d216fbacc786",
    "deepnote_app_coordinates": {
     "h": 5,
     "w": 12,
     "x": 0,
     "y": 48
    },
    "deepnote_cell_type": "markdown",
    "id": "Pe-pcFeO-aiE"
   },
   "source": [
    "## Problem 6 [2p]\n",
    "Implement a way to have a _variable number_ of hidden layers. Check how deep sigmoid or ReLU networks you  can train. For simplicity you can assume that all hidden layers have the same number of neurons, and use the same activation function.\n"
   ]
  },
  {
   "cell_type": "markdown",
   "metadata": {
    "cell_id": "00009-64a0b978-7933-40be-89e4-a3d35d52c7ab",
    "deepnote_app_coordinates": {
     "h": 5,
     "w": 12,
     "x": 0,
     "y": 54
    },
    "deepnote_cell_type": "markdown",
    "id": "kIpn17Cm-aW7"
   },
   "source": [
    "## Problem 7 [2p]\n",
    "For each weight matrix $w\\in\\mathbb{R}^{n\\times m}$, add a randomly initialized `backward weight` $w_b\\in\\mathbb{R}^{m\\times n}$, which will not change during training. Change the backward pass to use $w_b$ instead of $w^T$, getting an approxmatoin of the true gradient. Can you get your network to train?\n",
    "\n",
    "NB: this approach, dubbed [feedback alignment](https://www.nature.com/articles/ncomms13276), was proposed to make error backpropagation more biologically plausible, by providing a solution to the \"weight transport problem\". Regular backpropagation requires that neurons not only know their incoming weights (thet they control), but also their outgoing weights (that are controlled by neurons in the upper layers). This is nearly impossible in a real brain."
   ]
  },
  {
   "cell_type": "markdown",
   "metadata": {
    "cell_id": "00010-954fd65b-4d81-4bbc-bf6b-4d10d50be9b8",
    "deepnote_app_coordinates": {
     "h": 5,
     "w": 12,
     "x": 0,
     "y": 60
    },
    "deepnote_cell_type": "markdown",
    "id": "rXJaoHSH0DZO"
   },
   "source": [
    "# Solutions and starter code"
   ]
  },
  {
   "cell_type": "code",
   "execution_count": 1,
   "metadata": {
    "cell_id": "00011-97f2c7fe-a3d5-4a6b-bc12-8a96bfeed475",
    "deepnote_app_coordinates": {
     "h": 5,
     "w": 12,
     "x": 0,
     "y": 66
    },
    "deepnote_cell_type": "code",
    "id": "YiTEWD2oqW0Y"
   },
   "outputs": [],
   "source": [
    "import matplotlib.pyplot as plt\n",
    "import numpy as np\n",
    "import pandas as pd\n",
    "import seaborn as sns"
   ]
  },
  {
   "cell_type": "markdown",
   "metadata": {
    "cell_id": "00012-8bc44e88-e665-483d-89fc-c866879ad335",
    "deepnote_app_coordinates": {
     "h": 5,
     "w": 12,
     "x": 0,
     "y": 72
    },
    "deepnote_cell_type": "markdown",
    "id": "eqtfJKR40J3x"
   },
   "source": [
    "XOR dataset creation"
   ]
  },
  {
   "cell_type": "code",
   "execution_count": 2,
   "metadata": {
    "cell_id": "00013-3adfc55c-5dcc-476a-9e4a-328f2044ebc1",
    "colab": {
     "base_uri": "https://localhost:8080/",
     "height": 296
    },
    "deepnote_app_coordinates": {
     "h": 5,
     "w": 12,
     "x": 0,
     "y": 78
    },
    "deepnote_cell_type": "code",
    "id": "lYEbCfbSpv5M",
    "outputId": "48a99aad-e15b-4c7b-f881-bbfbe1941a15"
   },
   "outputs": [
    {
     "data": {
      "text/plain": [
       "(-0.05, 1.05, -0.05, 1.05)"
      ]
     },
     "execution_count": 2,
     "metadata": {},
     "output_type": "execute_result"
    },
    {
     "data": {
      "image/png": "[encoded data removed]",
      "text/plain": [
       "<Figure size 432x288 with 1 Axes>"
      ]
     },
     "metadata": {
      "needs_background": "light"
     },
     "output_type": "display_data"
    }
   ],
   "source": [
    "# Let's define a XOR dataset\n",
    "\n",
    "# X will be matrix of N 2-dimensional inputs\n",
    "X = np.array([[0, 0], [0, 1], [1, 0], [1, 1],], dtype=np.float32)\n",
    "# Y is a matrix of N numners - answers\n",
    "Y = np.array([[0], [1], [1], [0],], dtype=np.float32)\n",
    "\n",
    "plt.scatter(\n",
    "    X[:, 0], X[:, 1], c=Y[:, 0],\n",
    ")\n",
    "plt.xlabel(\"X[0]\")\n",
    "plt.ylabel(\"X[1]\")\n",
    "plt.axis(\"square\")"
   ]
  },
  {
   "cell_type": "markdown",
   "metadata": {
    "cell_id": "00014-fe501b87-4247-497d-a7c7-f528483d31cc",
    "deepnote_app_coordinates": {
     "h": 5,
     "w": 12,
     "x": 0,
     "y": 84
    },
    "deepnote_cell_type": "markdown",
    "id": "Rb3azMn929_I"
   },
   "source": [
    "## Problem 1"
   ]
  },
  {
   "cell_type": "markdown",
   "metadata": {
    "cell_id": "00015-97a3483d-0ae6-4bee-afd5-6226abc622a5",
    "deepnote_app_coordinates": {
     "h": 5,
     "w": 12,
     "x": 0,
     "y": 90
    },
    "deepnote_cell_type": "markdown",
    "id": "RZCM_hdELE04"
   },
   "source": [
    "The code below contains a mock-up of a two-layer neural network. Fill in the code and manually set weights to solve the XOR problem.\n",
    "\n",
    "Please note: the shapes are set to be compatible with PyTorch's conventions:\n",
    "* a batch containing $N$ $D$-dimensional examples has shape $N\\times D$ (each example is a row!)\n",
    "* a weight matrix in a linear layer with $I$ inputs and $O$ outputs has shape $O \\times I$\n",
    "* a bias vector is a 1D vector. Please note that [broadcasting rules](https://docs.scipy.org/doc/numpy/user/basics.broadcasting.html) allow us to think about it as a $1 \\times D$ matrix."
   ]
  },
  {
   "cell_type": "code",
   "execution_count": 3,
   "metadata": {},
   "outputs": [],
   "source": [
    "def sigmoid(x):\n",
    "    return 1 / (1 + np.exp(-x))"
   ]
  },
  {
   "cell_type": "code",
   "execution_count": 4,
   "metadata": {},
   "outputs": [
    {
     "data": {
      "image/png": "[encoded data removed]",
      "text/plain": [
       "<Figure size 432x288 with 1 Axes>"
      ]
     },
     "metadata": {
      "needs_background": "light"
     },
     "output_type": "display_data"
    }
   ],
   "source": [
    "t = np.linspace(-5, 5)\n",
    "plt.plot(t, sigmoid(t))\n",
    "plt.show()"
   ]
  },
  {
   "cell_type": "code",
   "execution_count": 5,
   "metadata": {
    "cell_id": "00016-87dd53c6-4f21-4286-8a85-61c2a92fa819",
    "deepnote_app_coordinates": {
     "h": 5,
     "w": 12,
     "x": 0,
     "y": 96
    },
    "deepnote_cell_type": "code",
    "id": "lrrRuk6zLiF0"
   },
   "outputs": [],
   "source": [
    "class SmallNet:\n",
    "    def __init__(self, in_features, num_hidden, dtype=np.float32):\n",
    "        self.W1 = np.zeros((num_hidden, in_features), dtype=dtype)\n",
    "        self.b1 = np.zeros((num_hidden,), dtype=dtype)\n",
    "        self.W2 = np.zeros((1, num_hidden), dtype=dtype)\n",
    "        self.b2 = np.zeros((1,), dtype=dtype)\n",
    "        self.init_params()\n",
    "\n",
    "    def init_params(self):\n",
    "        self.W1 = np.random.normal(0, 0.5, self.W1.shape)\n",
    "        self.b1 = np.random.normal(0, 0.5, self.b1.shape)\n",
    "        self.W2 = np.random.normal(0, 0.5, self.W2.shape)\n",
    "        self.b2 = np.random.normal(0, 0.5, self.b2.shape)\n",
    "\n",
    "    def forward(self, X, Y=None, do_backward=False):\n",
    "        # TODO Problem 1: Fill in details of forward propagation\n",
    "\n",
    "        # Input to neurons in 1st layer\n",
    "        A1 = np.dot(X, self.W1.T) + self.b1\n",
    "        # Outputs after the sigmoid non-linearity\n",
    "        O1 = sigmoid(A1)\n",
    "        # print(O1)\n",
    "        # Inputs to neuron in the second layer\n",
    "        A2 = np.dot(O1, self.W2.T) + self.b2\n",
    "        # Outputs after the sigmoid non-linearity\n",
    "        O2 = sigmoid(A2)\n",
    "\n",
    "        # When Y is none, simply return the predictions. Else compute the loss\n",
    "        if Y is not None:\n",
    "            loss = -np.sum((1 - Y) * np.log(1 - O2) + Y * np.log(O2)) # TODO cross-entropy loss\n",
    "            # normalize loss by batch size\n",
    "            loss = loss.sum() / X.shape[0]\n",
    "        else:\n",
    "            loss = np.nan\n",
    "\n",
    "        if do_backward:\n",
    "            # TODO in Problem 2:\n",
    "            # fill in the gradient computation/\n",
    "            # Please note, that there is a correspondance between\n",
    "            # the forward and backward pass: with backward computations happening\n",
    "            # in reverse order.\n",
    "            # We save the gradients with respect to the parameters as fields of self.\n",
    "            # It is not very elegant, but simplifies training code later on.\n",
    "\n",
    "            # A2_grad is the gradient of loss with respect to A2\n",
    "            # Hint: there is a concise formula for the gradient\n",
    "            # of logistic sigmoid and cross-entropy loss\n",
    "            A2_grad = (O2 - Y) / X.shape[0]\n",
    "            self.b2_grad = A2_grad.sum(0)\n",
    "            self.W2_grad = np.dot(A2_grad.T, O1)\n",
    "            O1_grad = np.dot(A2_grad, self.W2)\n",
    "            A1_grad = O1_grad * O1 * (1 - O1)\n",
    "            self.b1_grad = A1_grad.sum(0)\n",
    "            self.W1_grad = np.dot(A1_grad.T, X)\n",
    "\n",
    "        return O2, loss"
   ]
  },
  {
   "cell_type": "code",
   "execution_count": 6,
   "metadata": {
    "cell_id": "00017-32ce9293-0a37-4397-aeac-25eef428e8d4",
    "colab": {
     "base_uri": "https://localhost:8080/"
    },
    "deepnote_app_coordinates": {
     "h": 5,
     "w": 12,
     "x": 0,
     "y": 102
    },
    "deepnote_cell_type": "code",
    "id": "jJswvBk0oiIY",
    "outputId": "e6559317-7afa-4509-fbac-4880e73b91cc"
   },
   "outputs": [
    {
     "name": "stdout",
     "output_type": "stream",
     "text": [
      "XORnet([0. 0.]) = 0.007644135828260396\n",
      "XORnet([0. 1.]) = 0.9928472118111036\n",
      "XORnet([1. 0.]) = 0.9928472118111036\n",
      "XORnet([1. 1.]) = 0.007644135828260396\n"
     ]
    }
   ],
   "source": [
    "# TODO Problem 1:\n",
    "# Set by hand the weight values to solve the XOR problem\n",
    "\n",
    "net = SmallNet(2, 2, dtype=np.float64)\n",
    "net.W1 = 10 * np.array([[1, -1], [-1, 1]])\n",
    "net.b1 = -5 * np.array([1, 1])\n",
    "net.W2 = 10 * np.array([[1, 1]])\n",
    "net.b2 = 5 * np.array([-1])\n",
    "\n",
    "# Hint: since we use the logistic sigmoid activation, the weights may need to\n",
    "# be fairly large\n",
    "\n",
    "predictions, loss = net.forward(X, Y)#, do_backward=True)\n",
    "for x, p in zip(X, predictions):\n",
    "    print(f\"XORnet({x}) = {p[0]}\")"
   ]
  },
  {
   "cell_type": "markdown",
   "metadata": {
    "cell_id": "00018-9f8740d2-90e7-4d20-a535-002df8547aba",
    "deepnote_app_coordinates": {
     "h": 5,
     "w": 12,
     "x": 0,
     "y": 108
    },
    "deepnote_cell_type": "markdown",
    "id": "wmxCi5Vl6_xB"
   },
   "source": [
    "## Problem 2"
   ]
  },
  {
   "cell_type": "code",
   "execution_count": 7,
   "metadata": {
    "cell_id": "00019-8f804996-a00a-4bb5-a524-ad056659e023",
    "deepnote_app_coordinates": {
     "h": 5,
     "w": 12,
     "x": 0,
     "y": 114
    },
    "deepnote_cell_type": "code",
    "id": "eSM5hgJ1mrhY"
   },
   "outputs": [],
   "source": [
    "def check_grad(net, param_name, X, Y, eps=1e-5):\n",
    "    \"\"\"A gradient checking routine\"\"\"\n",
    "\n",
    "    param = getattr(net, param_name)\n",
    "    param_flat_accessor = param.reshape(-1)\n",
    "\n",
    "    grad = np.empty_like(param)\n",
    "    grad_flat_accessor = grad.reshape(-1)\n",
    "\n",
    "    net.forward(X, Y, do_backward=True)\n",
    "    orig_grad = getattr(net, param_name + \"_grad\")\n",
    "    assert param.shape == orig_grad.shape, f\"{param_name} size doesn't match the gradient shape\"\n",
    "\n",
    "    for i in range(param_flat_accessor.shape[0]):\n",
    "        orig_val = param_flat_accessor[i]\n",
    "        param_flat_accessor[i] = orig_val + eps\n",
    "        _, loss_positive = net.forward(X, Y)\n",
    "        param_flat_accessor[i] = orig_val - eps\n",
    "        _, loss_negative = net.forward(X, Y)\n",
    "        param_flat_accessor[i] = orig_val\n",
    "        grad_flat_accessor[i] = (loss_positive - loss_negative) / (2 * eps)\n",
    "    assert np.allclose(grad, orig_grad)\n",
    "    return grad, orig_grad"
   ]
  },
  {
   "cell_type": "code",
   "execution_count": 8,
   "metadata": {
    "cell_id": "00020-1c4174cf-f129-4cad-adad-4734810a8ce1",
    "deepnote_app_coordinates": {
     "h": 5,
     "w": 12,
     "x": 0,
     "y": 120
    },
    "deepnote_cell_type": "code",
    "id": "TTZu0jFEvgXF"
   },
   "outputs": [],
   "source": [
    "# Hint: use float64 for checking the correctness of the gradient\n",
    "net = SmallNet(2, 2, dtype=np.float64)\n",
    "\n",
    "for param_name in [\"W1\", \"b1\", \"W2\", \"b2\"]:\n",
    "    check_grad(net, param_name, X, Y)"
   ]
  },
  {
   "cell_type": "markdown",
   "metadata": {
    "cell_id": "00021-145837f8-c83f-4aab-8e62-0114e59f30fe",
    "deepnote_app_coordinates": {
     "h": 5,
     "w": 12,
     "x": 0,
     "y": 126
    },
    "deepnote_cell_type": "markdown",
    "id": "8mUOs3cVvjM2"
   },
   "source": [
    "## Problem 3"
   ]
  },
  {
   "cell_type": "code",
   "execution_count": 9,
   "metadata": {
    "cell_id": "00022-91b3eba0-6025-4839-847c-f5cb275fad07",
    "colab": {
     "base_uri": "https://localhost:8080/"
    },
    "deepnote_app_coordinates": {
     "h": 5,
     "w": 12,
     "x": 0,
     "y": 132
    },
    "deepnote_cell_type": "code",
    "id": "nn2AAoZo0vjU",
    "outputId": "7b6b5a9a-dea5-4357-e8c1-36a34c7c272a"
   },
   "outputs": [
    {
     "name": "stdout",
     "output_type": "stream",
     "text": [
      "after 0 steps \tloss=0.7963235472814381\n",
      "after 5000 steps \tloss=0.033322186521434274\n",
      "after 10000 steps \tloss=0.011005403680906517\n",
      "after 15000 steps \tloss=0.0062703534349069605\n",
      "after 20000 steps \tloss=0.0042910466885084835\n",
      "after 25000 steps \tloss=0.0032218959906317804\n",
      "after 30000 steps \tloss=0.002558949362098815\n",
      "after 35000 steps \tloss=0.0021106032189827416\n",
      "after 40000 steps \tloss=0.001788693872654549\n",
      "after 45000 steps \tloss=0.0015472111007791018\n",
      "after 50000 steps \tloss=0.0013598859658445366\n",
      "after 55000 steps \tloss=0.0012106720820751306\n",
      "after 60000 steps \tloss=0.0010892363848784012\n",
      "after 65000 steps \tloss=0.000988636677317215\n",
      "after 70000 steps \tloss=0.0009040434783055841\n",
      "after 75000 steps \tloss=0.0008319976122181747\n",
      "after 80000 steps \tloss=0.0007699592221620443\n",
      "after 85000 steps \tloss=0.000716023246513142\n",
      "after 90000 steps \tloss=0.0006687340029935135\n",
      "after 95000 steps \tloss=0.0006269609172573651\n"
     ]
    }
   ],
   "source": [
    "net = SmallNet(2, 10, dtype=np.float64)\n",
    "\n",
    "alpha = 0.1  # set a learning rate\n",
    "\n",
    "for i in range(100000):\n",
    "    _, loss = net.forward(X, Y, do_backward=True)\n",
    "    if (i % 5000) == 0:\n",
    "        print(f\"after {i} steps \\tloss={loss}\")\n",
    "    for param_name in [\"W1\", \"b1\", \"W2\", \"b2\"]:\n",
    "        param = getattr(net, param_name)\n",
    "        # Hint: use the construct `param[:]` to change the contents of the array!\n",
    "        # Doing instead `param = new_val` simply changes to what the variable\n",
    "        # param points to, without affecting the network!\n",
    "        # alternatively, you could do setattr(net, param_name, new_value)\n",
    "        param[:] = param[:] - alpha * getattr(net, param_name + \"_grad\")"
   ]
  },
  {
   "cell_type": "code",
   "execution_count": 10,
   "metadata": {
    "cell_id": "00023-c92941a8-24d1-46e8-a410-d189c1d87b08",
    "colab": {
     "base_uri": "https://localhost:8080/"
    },
    "deepnote_app_coordinates": {
     "h": 5,
     "w": 12,
     "x": 0,
     "y": 138
    },
    "deepnote_cell_type": "code",
    "id": "TwpEjpkU1JvK",
    "outputId": "dc044de9-81c1-4944-d9a2-5dcc72bf9a57"
   },
   "outputs": [
    {
     "name": "stdout",
     "output_type": "stream",
     "text": [
      "XORnet([0. 0.]) = 0.0003580865070048508\n",
      "XORnet([0. 1.]) = 0.9994236549835024\n",
      "XORnet([1. 0.]) = 0.9993779237235279\n",
      "XORnet([1. 1.]) = 0.000801999218353014\n"
     ]
    }
   ],
   "source": [
    "predictions, loss = net.forward(X, Y, do_backward=True)\n",
    "for x, p in zip(X, predictions):\n",
    "    print(f\"XORnet({x}) = {p[0]}\")"
   ]
  },
  {
   "cell_type": "code",
   "execution_count": 11,
   "metadata": {},
   "outputs": [],
   "source": [
    "from itertools import repeat, product"
   ]
  },
  {
   "cell_type": "code",
   "execution_count": 12,
   "metadata": {},
   "outputs": [
    {
     "data": {
      "text/plain": [
       "(array([[0, 0, 0],\n",
       "        [0, 0, 1],\n",
       "        [0, 1, 0],\n",
       "        [0, 1, 1],\n",
       "        [1, 0, 0],\n",
       "        [1, 0, 1],\n",
       "        [1, 1, 0],\n",
       "        [1, 1, 1]]),\n",
       " array([[0.],\n",
       "        [1.],\n",
       "        [1.],\n",
       "        [0.],\n",
       "        [1.],\n",
       "        [0.],\n",
       "        [0.],\n",
       "        [1.]]))"
      ]
     },
     "execution_count": 12,
     "metadata": {},
     "output_type": "execute_result"
    }
   ],
   "source": [
    "X3 = np.array(list(product(*repeat([0, 1], 3))))\n",
    "Y3 = np.logical_xor.reduce(X3, axis=1, keepdims=True).astype(float)\n",
    "X3, Y3"
   ]
  },
  {
   "cell_type": "code",
   "execution_count": 54,
   "metadata": {},
   "outputs": [
    {
     "data": {
      "text/plain": [
       "False"
      ]
     },
     "execution_count": 54,
     "metadata": {},
     "output_type": "execute_result"
    }
   ],
   "source": [
    "np.log10(101) == np.log10(101).round()"
   ]
  },
  {
   "cell_type": "code",
   "execution_count": 53,
   "metadata": {},
   "outputs": [
    {
     "data": {
      "text/plain": [
       "2.0"
      ]
     },
     "execution_count": 53,
     "metadata": {},
     "output_type": "execute_result"
    }
   ],
   "source": [
    "np.log10(101).round()"
   ]
  },
  {
   "cell_type": "code",
   "execution_count": 55,
   "metadata": {
    "cell_id": "00024-e09655a3-84e1-4a43-9b61-00edb56c6054",
    "deepnote_app_coordinates": {
     "h": 5,
     "w": 12,
     "x": 0,
     "y": 144
    },
    "deepnote_cell_type": "code",
    "id": "U0ZMyHqz8xrC"
   },
   "outputs": [],
   "source": [
    "alpha = 0.1  # set a learning rate\n",
    "n_repeats = 10\n",
    "results = []\n",
    "\n",
    "for hidden_dim in [2, 3, 5, 10, 20]:\n",
    "    for _ in range(n_repeats):\n",
    "        net = SmallNet(3, hidden_dim, dtype=np.float64)\n",
    "        for i in range(1, 100001):\n",
    "            _, loss = net.forward(X3, Y3, do_backward=True)\n",
    "            for param_name in [\"W1\", \"b1\", \"W2\", \"b2\"]:\n",
    "                param = getattr(net, param_name)\n",
    "                param[:] = param[:] - alpha * getattr(net, param_name + \"_grad\")\n",
    "            \n",
    "            if (np.log10(i) == np.log10(i).round()):\n",
    "                results.append(\n",
    "                    {\"epochs\": i, \"accuracy\": (net.forward(X3)[0].round() == Y3).mean(), \"loss\": loss, \"hidden_dim\": hidden_dim}\n",
    "                )"
   ]
  },
  {
   "cell_type": "code",
   "execution_count": 56,
   "metadata": {},
   "outputs": [
    {
     "data": {
      "image/png": "[encoded data removed]",
      "text/plain": [
       "<Figure size 432x288 with 1 Axes>"
      ]
     },
     "metadata": {
      "needs_background": "light"
     },
     "output_type": "display_data"
    }
   ],
   "source": [
    "sns.lineplot(x=\"epochs\", y=\"accuracy\", hue=\"hidden_dim\", data=pd.DataFrame(results).groupby([\"hidden_dim\", \"epochs\"]).mean()[\"accuracy\"].reset_index())\n",
    "plt.xscale(\"log\")"
   ]
  },
  {
   "cell_type": "code",
   "execution_count": 57,
   "metadata": {},
   "outputs": [
    {
     "data": {
      "image/png": "[encoded data removed]",
      "text/plain": [
       "<Figure size 432x288 with 1 Axes>"
      ]
     },
     "metadata": {
      "needs_background": "light"
     },
     "output_type": "display_data"
    }
   ],
   "source": [
    "sns.lineplot(x=\"epochs\", y=\"loss\", hue=\"hidden_dim\", data=pd.DataFrame(results).groupby([\"hidden_dim\", \"epochs\"]).mean()[\"loss\"].reset_index())\n",
    "plt.xscale(\"log\")"
   ]
  },
  {
   "cell_type": "markdown",
   "metadata": {
    "cell_id": "00025-9703bd09-6aae-4830-8221-09b53a623e4b",
    "deepnote_app_coordinates": {
     "h": 5,
     "w": 12,
     "x": 0,
     "y": 150
    },
    "deepnote_cell_type": "markdown",
    "id": "UuaLEoV-9DLG"
   },
   "source": [
    "## Problem 4\n"
   ]
  },
  {
   "cell_type": "code",
   "execution_count": 60,
   "metadata": {
    "cell_id": "00026-1a2be430-91e0-4209-ab3f-9ef84c39513b",
    "deepnote_app_coordinates": {
     "h": 5,
     "w": 12,
     "x": 0,
     "y": 156
    },
    "deepnote_cell_type": "code",
    "id": "w3lk9_TM-MvK"
   },
   "outputs": [],
   "source": [
    "class ReLUNet(SmallNet):\n",
    "    def forward(self, X, Y=None, do_backward=False):\n",
    "        # Input to neurons in 1st layer\n",
    "        A1 = np.dot(X, self.W1.T) + self.b1\n",
    "        # Outputs after the ReLU non-linearity\n",
    "        O1 = np.fmax(0, A1)\n",
    "        # Inputs to neuron in the second layer\n",
    "        A2 = np.dot(O1, self.W2.T) + self.b2\n",
    "        # Outputs after the sigmoid non-linearity\n",
    "        O2 = sigmoid(A2)\n",
    "\n",
    "        # When Y is none, simply return the predictions. Else compute the loss\n",
    "        if Y is not None:\n",
    "            loss = -np.sum((1 - Y) * np.log(1 - O2) + Y * np.log(O2)) # TODO cross-entropy loss\n",
    "            # normalize loss by batch size\n",
    "            loss = loss.sum() / X.shape[0]\n",
    "        else:\n",
    "            loss = np.nan\n",
    "\n",
    "        if do_backward:\n",
    "            # Please note, that there is a correspondance between\n",
    "            # the forward and backward pass: with backward computations happening\n",
    "            # in reverse order.\n",
    "            # We save the gradients with respect to the parameters as fields of self.\n",
    "            # It is not very elegant, but simplifies training code later on.\n",
    "\n",
    "            # A2_grad is the gradient of loss with respect to A2\n",
    "            # Hint: there is a concise formula for the gradient\n",
    "            # of logistic sigmoid and cross-entropy loss\n",
    "            A2_grad = (O2 - Y) / X.shape[0]\n",
    "            self.b2_grad = A2_grad.sum(0)\n",
    "            self.W2_grad = np.dot(A2_grad.T, O1)\n",
    "            O1_grad = np.dot(A2_grad, self.W2)\n",
    "            A1_grad = O1_grad * np.where(O1 == 0, 0, 1)\n",
    "            self.b1_grad = A1_grad.sum(0)\n",
    "            self.W1_grad = np.dot(A1_grad.T, X)\n",
    "\n",
    "        return O2, loss"
   ]
  },
  {
   "cell_type": "code",
   "execution_count": 77,
   "metadata": {},
   "outputs": [
    {
     "name": "stdout",
     "output_type": "stream",
     "text": [
      "after 0 steps \tloss=0.7361145519393121\n",
      "after 5000 steps \tloss=0.5553701298489833\n",
      "after 10000 steps \tloss=0.38736705463269394\n",
      "after 15000 steps \tloss=0.1515391389085064\n",
      "after 20000 steps \tloss=0.06254608401948614\n",
      "after 25000 steps \tloss=0.03338646154022652\n",
      "after 30000 steps \tloss=0.021336251156697975\n",
      "after 35000 steps \tloss=0.015183260813445563\n",
      "after 40000 steps \tloss=0.011560053458949032\n",
      "after 45000 steps \tloss=0.009242154764854656\n",
      "after 50000 steps \tloss=0.007640211105429329\n",
      "after 55000 steps \tloss=0.0064709258736653005\n",
      "after 60000 steps \tloss=0.005586773521455856\n",
      "after 65000 steps \tloss=0.004896887485151577\n",
      "after 70000 steps \tloss=0.0043464060093732805\n",
      "after 75000 steps \tloss=0.0038979663445852107\n",
      "after 80000 steps \tloss=0.0035265935592791284\n",
      "after 85000 steps \tloss=0.003214436176279916\n",
      "after 90000 steps \tloss=0.0029489621119440515\n",
      "after 95000 steps \tloss=0.002720848055011697\n"
     ]
    }
   ],
   "source": [
    "net = ReLUNet(3, 10)\n",
    "\n",
    "alpha = 0.01  # set a learning rate\n",
    "\n",
    "for i in range(100000):\n",
    "    _, loss = net.forward(X3, Y3, do_backward=True)\n",
    "    if (i % 5000) == 0:\n",
    "        print(f\"after {i} steps \\tloss={loss}\")\n",
    "    for param_name in [\"W1\", \"b1\", \"W2\", \"b2\"]:\n",
    "        param = getattr(net, param_name)\n",
    "        # Hint: use the construct `param[:]` to change the contents of the array!\n",
    "        # Doing instead `param = new_val` simply changes to what the variable\n",
    "        # param points to, without affecting the network!\n",
    "        # alternatively, you could do setattr(net, param_name, new_value)\n",
    "        param[:] = param[:] - alpha * getattr(net, param_name + \"_grad\")"
   ]
  },
  {
   "cell_type": "code",
   "execution_count": 78,
   "metadata": {},
   "outputs": [
    {
     "name": "stdout",
     "output_type": "stream",
     "text": [
      "accuracy: 1.0\n"
     ]
    }
   ],
   "source": [
    "print(f\"accuracy: {(net.forward(X3)[0].round() == Y3).mean()}\")"
   ]
  },
  {
   "cell_type": "markdown",
   "metadata": {
    "cell_id": "00027-de8a387d-3b6a-48d5-b6c8-fddf13637e38",
    "deepnote_app_coordinates": {
     "h": 5,
     "w": 12,
     "x": 0,
     "y": 162
    },
    "deepnote_cell_type": "markdown",
    "id": "_Hr_iAKX-ND1"
   },
   "source": [
    "## Problem 5"
   ]
  },
  {
   "cell_type": "code",
   "execution_count": 81,
   "metadata": {},
   "outputs": [],
   "source": [
    "class DeepNet:\n",
    "    def __init__(self, in_features, num_hidden, dtype=np.float32):\n",
    "        self.W1 = np.zeros((num_hidden[0], in_features), dtype=dtype)\n",
    "        self.b1 = np.zeros((num_hidden[0],), dtype=dtype)\n",
    "        self.W2 = np.zeros((num_hidden[1], num_hidden[0]), dtype=dtype)\n",
    "        self.b2 = np.zeros((num_hidden[1],), dtype=dtype)\n",
    "        self.W3 = np.zeros((1, num_hidden[1]), dtype=dtype)\n",
    "        self.b3 = np.zeros((1,), dtype=dtype)\n",
    "        self.init_params()\n",
    "\n",
    "    def init_params(self):\n",
    "        self.W1 = np.random.normal(0, 0.5, self.W1.shape)\n",
    "        self.b1 = np.random.normal(0, 0.5, self.b1.shape)\n",
    "        self.W2 = np.random.normal(0, 0.5, self.W2.shape)\n",
    "        self.b2 = np.random.normal(0, 0.5, self.b2.shape)\n",
    "        self.W3 = np.random.normal(0, 0.5, self.W3.shape)\n",
    "        self.b3 = np.random.normal(0, 0.5, self.b3.shape)\n",
    "\n",
    "    def forward(self, X, Y=None, do_backward=False):\n",
    "        # Input to neurons in 1st layer\n",
    "        A1 = np.dot(X, self.W1.T) + self.b1\n",
    "        O1 = sigmoid(A1)\n",
    "        \n",
    "        A2 = np.dot(O1, self.W2.T) + self.b2\n",
    "        O2 = sigmoid(A2)\n",
    "\n",
    "        A3 = np.dot(O2, self.W3.T) + self.b3\n",
    "        O3 = sigmoid(A3)\n",
    "\n",
    "        # When Y is none, simply return the predictions. Else compute the loss\n",
    "        if Y is not None:\n",
    "            loss = -np.sum((1 - Y) * np.log(1 - O3) + Y * np.log(O3)) # TODO cross-entropy loss\n",
    "            # normalize loss by batch size\n",
    "            loss = loss.sum() / X.shape[0]\n",
    "        else:\n",
    "            loss = np.nan\n",
    "\n",
    "        if do_backward:\n",
    "            A3_grad = (O3 - Y) / X.shape[0]\n",
    "            self.b3_grad = A3_grad.sum(0)\n",
    "            self.W3_grad = np.dot(A3_grad.T, O2)\n",
    "\n",
    "            O2_grad = np.dot(A3_grad, self.W3)\n",
    "            A2_grad = O2_grad * O2 * (1 - O2)\n",
    "            self.b2_grad = A2_grad.sum(0)\n",
    "            self.W2_grad = np.dot(A2_grad.T, O1)\n",
    "\n",
    "            O1_grad = np.dot(A2_grad, self.W2)\n",
    "            A1_grad = O1_grad * O1 * (1 - O1)\n",
    "            self.b1_grad = A1_grad.sum(0)\n",
    "            self.W1_grad = np.dot(A1_grad.T, X)\n",
    "\n",
    "        return O3, loss"
   ]
  },
  {
   "cell_type": "code",
   "execution_count": 89,
   "metadata": {
    "cell_id": "00028-0aa6ea62-907d-44bf-9ba4-71870d3dd547",
    "deepnote_app_coordinates": {
     "h": 5,
     "w": 12,
     "x": 0,
     "y": 168
    },
    "deepnote_cell_type": "code",
    "id": "rnz6CndQ-NRI"
   },
   "outputs": [
    {
     "name": "stdout",
     "output_type": "stream",
     "text": [
      "after 0 steps \tloss=0.8008456631278243\n",
      "after 5000 steps \tloss=0.6931352997848874\n",
      "after 10000 steps \tloss=0.693121623008466\n",
      "after 15000 steps \tloss=0.6930991263056884\n",
      "after 20000 steps \tloss=0.6930515217312132\n",
      "after 25000 steps \tloss=0.6929068774459468\n",
      "after 30000 steps \tloss=0.6918888643011369\n",
      "after 35000 steps \tloss=0.6081977770031318\n",
      "after 40000 steps \tloss=0.06641644967084001\n",
      "after 45000 steps \tloss=0.01426677280956595\n",
      "after 50000 steps \tloss=0.007138858892015345\n",
      "after 55000 steps \tloss=0.004600775090662692\n",
      "after 60000 steps \tloss=0.0033404723992621877\n",
      "after 65000 steps \tloss=0.0025985769292876286\n",
      "after 70000 steps \tloss=0.0021141274149681154\n",
      "after 75000 steps \tloss=0.0017748917525165046\n",
      "after 80000 steps \tloss=0.001525091102102796\n",
      "after 85000 steps \tloss=0.001334038404760391\n",
      "after 90000 steps \tloss=0.0011835262591507038\n",
      "after 95000 steps \tloss=0.0010621014726378516\n"
     ]
    }
   ],
   "source": [
    "net = DeepNet(3, [2, 2], dtype=np.float64)\n",
    "\n",
    "alpha = 0.1  # set a learning rate\n",
    "\n",
    "for i in range(100000):\n",
    "    _, loss = net.forward(X3, Y3, do_backward=True)\n",
    "    if (i % 5000) == 0:\n",
    "        print(f\"after {i} steps \\tloss={loss}\")\n",
    "    for param_name in [\"W1\", \"b1\", \"W2\", \"b2\", \"W3\", \"b3\"]:\n",
    "        param = getattr(net, param_name)\n",
    "        # Hint: use the construct `param[:]` to change the contents of the array!\n",
    "        # Doing instead `param = new_val` simply changes to what the variable\n",
    "        # param points to, without affecting the network!\n",
    "        # alternatively, you could do setattr(net, param_name, new_value)\n",
    "        param[:] = param[:] - alpha * getattr(net, param_name + \"_grad\")"
   ]
  },
  {
   "cell_type": "code",
   "execution_count": 90,
   "metadata": {},
   "outputs": [
    {
     "name": "stdout",
     "output_type": "stream",
     "text": [
      "accuracy: 1.0\n"
     ]
    }
   ],
   "source": [
    "print(f\"accuracy: {(net.forward(X3)[0].round() == Y3).mean()}\")"
   ]
  },
  {
   "cell_type": "markdown",
   "metadata": {
    "cell_id": "00029-1de44bc6-5f35-4df3-af9a-408291ccc867",
    "deepnote_app_coordinates": {
     "h": 5,
     "w": 12,
     "x": 0,
     "y": 174
    },
    "deepnote_cell_type": "markdown",
    "id": "4PcNxrCt-NcN"
   },
   "source": [
    "## Problem 6"
   ]
  },
  {
   "cell_type": "code",
   "execution_count": 178,
   "metadata": {
    "cell_id": "00030-fdaced74-34ab-4cfc-8fa2-f3a0b012fbf2",
    "deepnote_app_coordinates": {
     "h": 5,
     "w": 12,
     "x": 0,
     "y": 180
    },
    "deepnote_cell_type": "code",
    "id": "6Brepirl-Nln"
   },
   "outputs": [],
   "source": [
    "from typing import List\n",
    "\n",
    "class Net:\n",
    "    def __init__(self, in_features, num_hidden: List[int], dtype=np.float32):\n",
    "        # First layer\n",
    "        self.W = [np.zeros((num_hidden[0], in_features), dtype=dtype)]\n",
    "        self.b = [np.zeros((num_hidden[0],), dtype=dtype)]\n",
    "\n",
    "        # Add other layers\n",
    "        for i in range(1, len(num_hidden)):\n",
    "            self.W.append(np.zeros((num_hidden[i], num_hidden[i - 1]), dtype=dtype))\n",
    "            self.b.append(np.zeros((num_hidden[i], ), dtype=dtype))\n",
    "\n",
    "        # Last layer\n",
    "        self.W.append(np.zeros((1, num_hidden[-1]), dtype=dtype))\n",
    "        self.b.append(np.zeros((1, ), dtype=dtype))\n",
    "\n",
    "        self.init_params()\n",
    "\n",
    "    def init_params(self):\n",
    "        for W, b in zip(self.W, self.b):\n",
    "            W[:] = np.random.normal(0, 0.5, W.shape)\n",
    "            b[:] = np.random.normal(0, 0.5, b.shape)\n",
    "\n",
    "    def forward(self, X, Y=None, do_backward=False):\n",
    "        # Input to neurons in 1st layer\n",
    "        A = [np.dot(X, self.W[0].T) + self.b[0]]\n",
    "        O = [sigmoid(A[0])]\n",
    "\n",
    "        for W, b in zip(self.W[1:], self.b[1:]):\n",
    "            A.append(np.dot(O[-1], W.T) + b)\n",
    "            O.append(sigmoid(A[-1]))\n",
    "\n",
    "        # When Y is none, simply return the predictions. Else compute the loss\n",
    "        if Y is not None:\n",
    "            loss = -np.sum((1 - Y) * np.log(1 - O[-1]) + Y * np.log(O[-1]))\n",
    "            # normalize loss by batch size\n",
    "            loss = loss.sum() / X.shape[0]\n",
    "        else:\n",
    "            loss = np.nan\n",
    "\n",
    "        if do_backward:\n",
    "            A_grad = [(O[-1] - Y) / X.shape[0]]\n",
    "            self.b_grad = []\n",
    "            self.W_grad = []\n",
    "\n",
    "            for idx in range(len(self.W) - 1):\n",
    "                self.b_grad.append(A_grad[idx].sum(0))\n",
    "                self.W_grad.append(np.dot(A_grad[idx].T, O[-(idx + 2)]))\n",
    "                O_grad = np.dot(A_grad[idx], self.W[-(idx + 1)])\n",
    "                A_grad.append(O_grad * O[-(idx + 2)] * (1 - O[-(idx + 2)]))\n",
    "\n",
    "            self.b_grad.append(A_grad[-1].sum(0))\n",
    "            self.W_grad.append(np.dot(A_grad[-1].T, X))\n",
    "\n",
    "            self.b_grad = self.b_grad[::-1]\n",
    "            self.W_grad = self.W_grad[::-1]\n",
    "        return O[-1], loss\n",
    "\n",
    "    def backward(self, alpha: float = 0.1):\n",
    "        for W, W_grad in zip(self.W, self.W_grad):\n",
    "            W[:] = W[:] - alpha * W_grad\n",
    "\n",
    "        for b, b_grad in zip(self.b, self.b_grad):\n",
    "            b[:] = b[:] - alpha * b_grad"
   ]
  },
  {
   "cell_type": "code",
   "execution_count": 206,
   "metadata": {},
   "outputs": [],
   "source": [
    "def ReLU(x):\n",
    "    return np.fmax(0, x)"
   ]
  },
  {
   "cell_type": "code",
   "execution_count": 211,
   "metadata": {},
   "outputs": [],
   "source": [
    "from typing import List, Union\n",
    "\n",
    "class Net:\n",
    "    def __init__(self, in_features, num_hidden: Union[List[int], int], dtype=np.float32, activation=\"sigmoid\"):\n",
    "        if isinstance(num_hidden, int):\n",
    "            num_hidden = [num_hidden]\n",
    "\n",
    "        self.activation = activation.lower()\n",
    "\n",
    "        # First layer\n",
    "        self.W = [np.zeros((num_hidden[0], in_features), dtype=dtype)]\n",
    "        self.b = [np.zeros((num_hidden[0],), dtype=dtype)]\n",
    "\n",
    "        # Add other layers\n",
    "        for i in range(1, len(num_hidden)):\n",
    "            self.W.append(np.zeros((num_hidden[i], num_hidden[i - 1]), dtype=dtype))\n",
    "            self.b.append(np.zeros((num_hidden[i], ), dtype=dtype))\n",
    "\n",
    "        # Last layer\n",
    "        self.W.append(np.zeros((1, num_hidden[-1]), dtype=dtype))\n",
    "        self.b.append(np.zeros((1, ), dtype=dtype))\n",
    "\n",
    "        self.init_params()\n",
    "\n",
    "    def init_params(self):\n",
    "        for W, b in zip(self.W, self.b):\n",
    "            W[:] = np.random.normal(0, 0.5, W.shape)\n",
    "            b[:] = np.random.normal(0, 0.5, b.shape)\n",
    "\n",
    "    def forward(self, X, Y=None, do_backward=False):\n",
    "        # Input to neurons in 1st layer\n",
    "        A = [np.dot(X, self.W[0].T) + self.b[0]]\n",
    "        if self.activation == \"sigmoid\":\n",
    "            O = [sigmoid(A[0])]\n",
    "        elif self.activation == \"relu\":\n",
    "            O = [ReLU(A[0])]\n",
    "        else:\n",
    "            raise ValueError(\"activation not known.\")\n",
    "\n",
    "        for W, b in zip(self.W[1:-1], self.b[1:-1]):\n",
    "            A.append(np.dot(O[-1], W.T) + b)\n",
    "            if self.activation == \"sigmoid\":\n",
    "                O.append(sigmoid(A[-1]))\n",
    "            elif self.activation == \"relu\":\n",
    "                O.append(ReLU(A[-1]))\n",
    "            else:\n",
    "                raise ValueError(\"activation not known.\")\n",
    "            \n",
    "        A.append(np.dot(O[-1], self.W[-1].T) + self.b[-1])\n",
    "        O.append(sigmoid(A[-1]))\n",
    "\n",
    "        # When Y is none, simply return the predictions. Else compute the loss\n",
    "        if Y is not None:\n",
    "            loss = -np.sum((1 - Y) * np.log(1 - O[-1]) + Y * np.log(O[-1]))\n",
    "            # normalize loss by batch size\n",
    "            loss = loss.sum() / X.shape[0]\n",
    "        else:\n",
    "            loss = np.nan\n",
    "\n",
    "        if do_backward:\n",
    "            A_grad = [(O[-1] - Y) / X.shape[0]]\n",
    "            self.b_grad = []\n",
    "            self.W_grad = []\n",
    "\n",
    "            for idx in range(len(self.W) - 1):\n",
    "                self.b_grad.append(A_grad[idx].sum(0))\n",
    "                self.W_grad.append(np.dot(A_grad[idx].T, O[-(idx + 2)]))\n",
    "                O_grad = np.dot(A_grad[idx], self.W[-(idx + 1)])\n",
    "                if self.activation == \"sigmoid\":\n",
    "                    A_grad.append(O_grad * O[-(idx + 2)] * (1 - O[-(idx + 2)]))\n",
    "                elif self.activation == \"relu\":\n",
    "                    A_grad.append(O_grad * np.where(O[-(idx + 2)] == 0, 0, 1))\n",
    "                else:\n",
    "                    raise ValueError(\"activation not known.\")\n",
    "\n",
    "            self.b_grad.append(A_grad[-1].sum(0))\n",
    "            self.W_grad.append(np.dot(A_grad[-1].T, X))\n",
    "\n",
    "            self.b_grad = self.b_grad[::-1]\n",
    "            self.W_grad = self.W_grad[::-1]\n",
    "        return O[-1], loss\n",
    "\n",
    "    def backward(self, alpha: float = 0.1):\n",
    "        for W, W_grad in zip(self.W, self.W_grad):\n",
    "            W[:] = W[:] - alpha * W_grad\n",
    "\n",
    "        for b, b_grad in zip(self.b, self.b_grad):\n",
    "            b[:] = b[:] - alpha * b_grad"
   ]
  },
  {
   "cell_type": "code",
   "execution_count": 212,
   "metadata": {},
   "outputs": [
    {
     "name": "stdout",
     "output_type": "stream",
     "text": [
      "after      0 steps \tloss=7.142241e-01 \taccuracy=0.5\n",
      "after   5000 steps \tloss=6.908583e-01 \taccuracy=0.75\n",
      "after  10000 steps \tloss=2.216814e-02 \taccuracy=1.0\n",
      "after  15000 steps \tloss=3.333740e-03 \taccuracy=1.0\n",
      "after  20000 steps \tloss=1.653200e-03 \taccuracy=1.0\n",
      "after  25000 steps \tloss=1.072709e-03 \taccuracy=1.0\n",
      "after  30000 steps \tloss=7.849885e-04 \taccuracy=1.0\n",
      "after  35000 steps \tloss=6.149802e-04 \taccuracy=1.0\n",
      "after  40000 steps \tloss=5.034118e-04 \taccuracy=1.0\n",
      "after  45000 steps \tloss=4.248899e-04 \taccuracy=1.0\n",
      "after  50000 steps \tloss=3.667919e-04 \taccuracy=1.0\n",
      "after  55000 steps \tloss=3.221603e-04 \taccuracy=1.0\n",
      "after  60000 steps \tloss=2.868562e-04 \taccuracy=1.0\n",
      "after  65000 steps \tloss=2.582686e-04 \taccuracy=1.0\n",
      "after  70000 steps \tloss=2.346714e-04 \taccuracy=1.0\n",
      "after  75000 steps \tloss=2.148795e-04 \taccuracy=1.0\n",
      "after  80000 steps \tloss=1.980530e-04 \taccuracy=1.0\n",
      "after  85000 steps \tloss=1.835805e-04 \taccuracy=1.0\n",
      "after  90000 steps \tloss=1.710068e-04 \taccuracy=1.0\n",
      "after  95000 steps \tloss=1.599862e-04 \taccuracy=1.0\n"
     ]
    }
   ],
   "source": [
    "net = Net(3, 2 * [10], np.float64)\n",
    "for i in range(100000):\n",
    "    y_hat, loss = net.forward(X3, Y3, do_backward=True)\n",
    "    net.backward(0.1)\n",
    "    if (i % 5000) == 0:\n",
    "        print(f\"after {i:6d} steps \\tloss={loss:.6e} \\taccuracy={(y_hat.round() == Y3).mean()}\")"
   ]
  },
  {
   "cell_type": "code",
   "execution_count": 213,
   "metadata": {},
   "outputs": [
    {
     "name": "stdout",
     "output_type": "stream",
     "text": [
      "after      0 steps \tloss=7.618406e-01 \taccuracy=0.5\n",
      "after   5000 steps \tloss=5.227723e-04 \taccuracy=1.0\n",
      "after  10000 steps \tloss=2.110818e-04 \taccuracy=1.0\n",
      "after  15000 steps \tloss=1.268178e-04 \taccuracy=1.0\n",
      "after  20000 steps \tloss=8.893118e-05 \taccuracy=1.0\n",
      "after  25000 steps \tloss=6.470795e-05 \taccuracy=1.0\n",
      "after  30000 steps \tloss=5.053944e-05 \taccuracy=1.0\n",
      "after  35000 steps \tloss=4.136753e-05 \taccuracy=1.0\n",
      "after  40000 steps \tloss=3.492309e-05 \taccuracy=1.0\n",
      "after  45000 steps \tloss=3.014629e-05 \taccuracy=1.0\n",
      "after  50000 steps \tloss=2.647058e-05 \taccuracy=1.0\n",
      "after  55000 steps \tloss=2.355596e-05 \taccuracy=1.0\n",
      "after  60000 steps \tloss=2.119411e-05 \taccuracy=1.0\n",
      "after  65000 steps \tloss=1.924069e-05 \taccuracy=1.0\n",
      "after  70000 steps \tloss=1.760132e-05 \taccuracy=1.0\n",
      "after  75000 steps \tloss=1.620738e-05 \taccuracy=1.0\n",
      "after  80000 steps \tloss=1.500689e-05 \taccuracy=1.0\n",
      "after  85000 steps \tloss=1.396399e-05 \taccuracy=1.0\n",
      "after  90000 steps \tloss=1.304957e-05 \taccuracy=1.0\n",
      "after  95000 steps \tloss=1.224217e-05 \taccuracy=1.0\n"
     ]
    }
   ],
   "source": [
    "net = Net(3, 2 * [10], np.float64, \"relu\")\n",
    "for i in range(100000):\n",
    "    y_hat, loss = net.forward(X3, Y3, do_backward=True)\n",
    "    net.backward(0.1)\n",
    "    if (i % 5000) == 0:\n",
    "        print(f\"after {i:6d} steps \\tloss={loss:.6e} \\taccuracy={(y_hat.round() == Y3).mean()}\")"
   ]
  },
  {
   "cell_type": "code",
   "execution_count": 216,
   "metadata": {},
   "outputs": [
    {
     "name": "stdout",
     "output_type": "stream",
     "text": [
      "after      0 steps \tloss=7.170589e-01 \taccuracy=0.375\n",
      "after   5000 steps \tloss=7.769157e-05 \taccuracy=1.0\n",
      "after  10000 steps \tloss=3.294207e-05 \taccuracy=1.0\n",
      "after  15000 steps \tloss=2.020856e-05 \taccuracy=1.0\n",
      "after  20000 steps \tloss=1.434533e-05 \taccuracy=1.0\n",
      "after  25000 steps \tloss=1.101885e-05 \taccuracy=1.0\n",
      "after  30000 steps \tloss=8.895240e-06 \taccuracy=1.0\n",
      "after  35000 steps \tloss=7.431320e-06 \taccuracy=1.0\n",
      "after  40000 steps \tloss=6.362035e-06 \taccuracy=1.0\n",
      "after  45000 steps \tloss=5.550301e-06 \taccuracy=1.0\n",
      "after  50000 steps \tloss=4.913614e-06 \taccuracy=1.0\n",
      "after  55000 steps \tloss=4.401567e-06 \taccuracy=1.0\n",
      "after  60000 steps \tloss=3.981560e-06 \taccuracy=1.0\n",
      "after  65000 steps \tloss=3.631174e-06 \taccuracy=1.0\n",
      "after  70000 steps \tloss=3.334770e-06 \taccuracy=1.0\n",
      "after  75000 steps \tloss=3.080794e-06 \taccuracy=1.0\n",
      "after  80000 steps \tloss=2.861111e-06 \taccuracy=1.0\n",
      "after  85000 steps \tloss=2.669232e-06 \taccuracy=1.0\n",
      "after  90000 steps \tloss=2.499982e-06 \taccuracy=1.0\n",
      "after  95000 steps \tloss=2.350134e-06 \taccuracy=1.0\n"
     ]
    }
   ],
   "source": [
    "net = Net(3, 5 * [8], np.float64, \"relu\")\n",
    "for i in range(100000):\n",
    "    y_hat, loss = net.forward(X3, Y3, do_backward=True)\n",
    "    net.backward(0.1)\n",
    "    if (i % 5000) == 0:\n",
    "        print(f\"after {i:6d} steps \\tloss={loss:.6e} \\taccuracy={(y_hat.round() == Y3).mean()}\")"
   ]
  },
  {
   "cell_type": "code",
   "execution_count": 217,
   "metadata": {},
   "outputs": [
    {
     "name": "stdout",
     "output_type": "stream",
     "text": [
      "after      0 steps \tloss=7.144741e-01 \taccuracy=0.5\n",
      "after   5000 steps \tloss=1.676167e-05 \taccuracy=1.0\n",
      "after  10000 steps \tloss=7.225811e-06 \taccuracy=1.0\n",
      "after  15000 steps \tloss=4.457482e-06 \taccuracy=1.0\n",
      "after  20000 steps \tloss=3.173394e-06 \taccuracy=1.0\n",
      "after  25000 steps \tloss=2.441804e-06 \taccuracy=1.0\n",
      "after  30000 steps \tloss=1.977088e-06 \taccuracy=1.0\n",
      "after  35000 steps \tloss=1.665863e-06 \taccuracy=1.0\n",
      "after  40000 steps \tloss=1.437857e-06 \taccuracy=1.0\n",
      "after  45000 steps \tloss=1.262153e-06 \taccuracy=1.0\n",
      "after  50000 steps \tloss=1.122875e-06 \taccuracy=1.0\n",
      "after  55000 steps \tloss=1.009896e-06 \taccuracy=1.0\n",
      "after  60000 steps \tloss=9.168572e-07 \taccuracy=1.0\n",
      "after  65000 steps \tloss=8.387609e-07 \taccuracy=1.0\n",
      "after  70000 steps \tloss=7.722944e-07 \taccuracy=1.0\n",
      "after  75000 steps \tloss=7.150736e-07 \taccuracy=1.0\n",
      "after  80000 steps \tloss=6.653243e-07 \taccuracy=1.0\n",
      "after  85000 steps \tloss=6.217093e-07 \taccuracy=1.0\n",
      "after  90000 steps \tloss=5.831743e-07 \taccuracy=1.0\n",
      "after  95000 steps \tloss=5.489009e-07 \taccuracy=1.0\n"
     ]
    }
   ],
   "source": [
    "net = Net(3, 7 * [8], np.float64, \"relu\")\n",
    "for i in range(100000):\n",
    "    y_hat, loss = net.forward(X3, Y3, do_backward=True)\n",
    "    net.backward(0.1)\n",
    "    if (i % 5000) == 0:\n",
    "        print(f\"after {i:6d} steps \\tloss={loss:.6e} \\taccuracy={(y_hat.round() == Y3).mean()}\")"
   ]
  },
  {
   "cell_type": "code",
   "execution_count": 218,
   "metadata": {},
   "outputs": [
    {
     "name": "stdout",
     "output_type": "stream",
     "text": [
      "after      0 steps \tloss=7.480972e-01 \taccuracy=0.5\n",
      "after   5000 steps \tloss=8.599217e-04 \taccuracy=1.0\n",
      "after  10000 steps \tloss=2.250264e-04 \taccuracy=1.0\n",
      "after  15000 steps \tloss=1.104276e-04 \taccuracy=1.0\n",
      "after  20000 steps \tloss=6.864752e-05 \taccuracy=1.0\n",
      "after  25000 steps \tloss=4.816838e-05 \taccuracy=1.0\n",
      "after  30000 steps \tloss=3.633904e-05 \taccuracy=1.0\n",
      "after  35000 steps \tloss=2.878966e-05 \taccuracy=1.0\n",
      "after  40000 steps \tloss=2.360726e-05 \taccuracy=1.0\n",
      "after  45000 steps \tloss=1.986505e-05 \taccuracy=1.0\n",
      "after  50000 steps \tloss=1.705091e-05 \taccuracy=1.0\n",
      "after  55000 steps \tloss=1.487380e-05 \taccuracy=1.0\n",
      "after  60000 steps \tloss=1.314251e-05 \taccuracy=1.0\n",
      "after  65000 steps \tloss=1.174061e-05 \taccuracy=1.0\n",
      "after  70000 steps \tloss=1.058173e-05 \taccuracy=1.0\n",
      "after  75000 steps \tloss=9.612521e-06 \taccuracy=1.0\n",
      "after  80000 steps \tloss=8.790846e-06 \taccuracy=1.0\n",
      "after  85000 steps \tloss=8.087040e-06 \taccuracy=1.0\n",
      "after  90000 steps \tloss=7.477914e-06 \taccuracy=1.0\n",
      "after  95000 steps \tloss=6.945760e-06 \taccuracy=1.0\n"
     ]
    }
   ],
   "source": [
    "net = Net(3, 10 * [8], np.float64, \"relu\")\n",
    "for i in range(100000):\n",
    "    y_hat, loss = net.forward(X3, Y3, do_backward=True)\n",
    "    net.backward(0.1)\n",
    "    if (i % 5000) == 0:\n",
    "        print(f\"after {i:6d} steps \\tloss={loss:.6e} \\taccuracy={(y_hat.round() == Y3).mean()}\")"
   ]
  },
  {
   "cell_type": "code",
   "execution_count": 221,
   "metadata": {},
   "outputs": [
    {
     "name": "stdout",
     "output_type": "stream",
     "text": [
      "after      0 steps \tloss=7.002463e-01 \taccuracy=0.5\n",
      "after   2000 steps \tloss=3.127763e-01 \taccuracy=0.875\n",
      "after   4000 steps \tloss=3.127597e-01 \taccuracy=0.875\n",
      "after   6000 steps \tloss=3.127563e-01 \taccuracy=0.875\n",
      "after   8000 steps \tloss=3.127548e-01 \taccuracy=0.875\n",
      "after  10000 steps \tloss=3.127540e-01 \taccuracy=0.875\n",
      "after  12000 steps \tloss=3.127535e-01 \taccuracy=0.875\n",
      "after  14000 steps \tloss=3.127532e-01 \taccuracy=0.875\n",
      "after  16000 steps \tloss=3.127530e-01 \taccuracy=0.875\n",
      "after  18000 steps \tloss=3.127528e-01 \taccuracy=0.875\n",
      "after  20000 steps \tloss=3.127526e-01 \taccuracy=0.875\n",
      "after  22000 steps \tloss=3.127525e-01 \taccuracy=0.875\n",
      "after  24000 steps \tloss=3.127524e-01 \taccuracy=0.875\n",
      "after  26000 steps \tloss=3.127531e-01 \taccuracy=0.875\n",
      "after  28000 steps \tloss=3.127528e-01 \taccuracy=0.875\n"
     ]
    }
   ],
   "source": [
    "net = Net(3, 12 * [8], np.float64, \"relu\")\n",
    "for i in range(30000):\n",
    "    y_hat, loss = net.forward(X3, Y3, do_backward=True)\n",
    "    net.backward(0.1)\n",
    "    if (i % 2000) == 0:\n",
    "        print(f\"after {i:6d} steps \\tloss={loss:.6e} \\taccuracy={(y_hat.round() == Y3).mean()}\")"
   ]
  },
  {
   "cell_type": "code",
   "execution_count": null,
   "metadata": {},
   "outputs": [
    {
     "name": "stdout",
     "output_type": "stream",
     "text": [
      "after      0 steps \tloss=7.144741e-01 \taccuracy=0.5\n",
      "after   5000 steps \tloss=1.676167e-05 \taccuracy=1.0\n",
      "after  10000 steps \tloss=7.225811e-06 \taccuracy=1.0\n",
      "after  15000 steps \tloss=4.457482e-06 \taccuracy=1.0\n",
      "after  20000 steps \tloss=3.173394e-06 \taccuracy=1.0\n",
      "after  25000 steps \tloss=2.441804e-06 \taccuracy=1.0\n",
      "after  30000 steps \tloss=1.977088e-06 \taccuracy=1.0\n",
      "after  35000 steps \tloss=1.665863e-06 \taccuracy=1.0\n",
      "after  40000 steps \tloss=1.437857e-06 \taccuracy=1.0\n",
      "after  45000 steps \tloss=1.262153e-06 \taccuracy=1.0\n",
      "after  50000 steps \tloss=1.122875e-06 \taccuracy=1.0\n",
      "after  55000 steps \tloss=1.009896e-06 \taccuracy=1.0\n",
      "after  60000 steps \tloss=9.168572e-07 \taccuracy=1.0\n",
      "after  65000 steps \tloss=8.387609e-07 \taccuracy=1.0\n",
      "after  70000 steps \tloss=7.722944e-07 \taccuracy=1.0\n",
      "after  75000 steps \tloss=7.150736e-07 \taccuracy=1.0\n",
      "after  80000 steps \tloss=6.653243e-07 \taccuracy=1.0\n",
      "after  85000 steps \tloss=6.217093e-07 \taccuracy=1.0\n",
      "after  90000 steps \tloss=5.831743e-07 \taccuracy=1.0\n",
      "after  95000 steps \tloss=5.489009e-07 \taccuracy=1.0\n"
     ]
    }
   ],
   "source": [
    "net = Net(3, 7 * [8], np.float64, \"relu\")\n",
    "for i in range(100000):\n",
    "    y_hat, loss = net.forward(X3, Y3, do_backward=True)\n",
    "    net.backward(0.1)\n",
    "    if (i % 5000) == 0:\n",
    "        print(f\"after {i:6d} steps \\tloss={loss:.6e} \\taccuracy={(y_hat.round() == Y3).mean()}\")"
   ]
  },
  {
   "cell_type": "code",
   "execution_count": 222,
   "metadata": {},
   "outputs": [
    {
     "name": "stdout",
     "output_type": "stream",
     "text": [
      "after      0 steps \tloss=9.011177e-01 \taccuracy=0.5\n",
      "after   2000 steps \tloss=6.931472e-01 \taccuracy=0.625\n",
      "after   4000 steps \tloss=6.931472e-01 \taccuracy=0.625\n",
      "after   6000 steps \tloss=6.931472e-01 \taccuracy=0.625\n",
      "after   8000 steps \tloss=6.931472e-01 \taccuracy=0.625\n",
      "after  10000 steps \tloss=6.931472e-01 \taccuracy=0.625\n",
      "after  12000 steps \tloss=6.931472e-01 \taccuracy=0.625\n",
      "after  14000 steps \tloss=6.931472e-01 \taccuracy=0.625\n",
      "after  16000 steps \tloss=6.931472e-01 \taccuracy=0.625\n",
      "after  18000 steps \tloss=6.931472e-01 \taccuracy=0.625\n",
      "after  20000 steps \tloss=6.931472e-01 \taccuracy=0.625\n",
      "after  22000 steps \tloss=6.931472e-01 \taccuracy=0.625\n",
      "after  24000 steps \tloss=6.931472e-01 \taccuracy=0.625\n",
      "after  26000 steps \tloss=6.931472e-01 \taccuracy=0.625\n",
      "after  28000 steps \tloss=6.931472e-01 \taccuracy=0.625\n"
     ]
    }
   ],
   "source": [
    "net = Net(3, 12 * [8], np.float64, \"sigmoid\")\n",
    "for i in range(30000):\n",
    "    y_hat, loss = net.forward(X3, Y3, do_backward=True)\n",
    "    net.backward(0.1)\n",
    "    if (i % 2000) == 0:\n",
    "        print(f\"after {i:6d} steps \\tloss={loss:.6e} \\taccuracy={(y_hat.round() == Y3).mean()}\")"
   ]
  },
  {
   "cell_type": "markdown",
   "metadata": {
    "cell_id": "00031-032edb86-1c56-46e7-8ea3-3e011d72bf5f",
    "deepnote_app_coordinates": {
     "h": 5,
     "w": 12,
     "x": 0,
     "y": 186
    },
    "deepnote_cell_type": "markdown",
    "id": "nWuv7Q77-Nut"
   },
   "source": [
    "## Problem 7"
   ]
  },
  {
   "cell_type": "code",
   "execution_count": 226,
   "metadata": {
    "cell_id": "00032-2eab2b1a-f83b-409c-a066-1642cd2ab2d8",
    "deepnote_app_coordinates": {
     "h": 5,
     "w": 12,
     "x": 0,
     "y": 192
    },
    "deepnote_cell_type": "code",
    "id": "avuvSoWY-N4Z"
   },
   "outputs": [],
   "source": [
    "from typing import List, Union\n",
    "\n",
    "class FeedbackAllignmentNet:\n",
    "    def __init__(self, in_features, num_hidden: Union[List[int], int], dtype=np.float32, activation=\"sigmoid\"):\n",
    "        if isinstance(num_hidden, int):\n",
    "            num_hidden = [num_hidden]\n",
    "\n",
    "        self.activation = activation.lower()\n",
    "\n",
    "        # First layer\n",
    "        self.W = [np.zeros((num_hidden[0], in_features), dtype=dtype)]\n",
    "        self.b = [np.zeros((num_hidden[0],), dtype=dtype)]\n",
    "\n",
    "        # Add other layers\n",
    "        for i in range(1, len(num_hidden)):\n",
    "            self.W.append(np.zeros((num_hidden[i], num_hidden[i - 1]), dtype=dtype))\n",
    "            self.b.append(np.zeros((num_hidden[i], ), dtype=dtype))\n",
    "\n",
    "        # Last layer\n",
    "        self.W.append(np.zeros((1, num_hidden[-1]), dtype=dtype))\n",
    "        self.b.append(np.zeros((1, ), dtype=dtype))\n",
    "\n",
    "        self.init_params()\n",
    "\n",
    "    def init_params(self):\n",
    "        self.backward_weights = []\n",
    "\n",
    "        for W, b in zip(self.W, self.b):\n",
    "            W[:] = np.random.normal(0, 0.5, W.shape)\n",
    "            b[:] = np.random.normal(0, 0.5, b.shape)\n",
    "            self.backward_weights.append(np.random.normal(0, 0.5, W.T.shape))\n",
    "\n",
    "    def forward(self, X, Y=None, do_backward=False):\n",
    "        # Input to neurons in 1st layer\n",
    "        A = [np.dot(X, self.W[0].T) + self.b[0]]\n",
    "        if self.activation == \"sigmoid\":\n",
    "            O = [sigmoid(A[0])]\n",
    "        elif self.activation == \"relu\":\n",
    "            O = [ReLU(A[0])]\n",
    "        else:\n",
    "            raise ValueError(\"activation not known.\")\n",
    "\n",
    "        for W, b in zip(self.W[1:-1], self.b[1:-1]):\n",
    "            A.append(np.dot(O[-1], W.T) + b)\n",
    "            if self.activation == \"sigmoid\":\n",
    "                O.append(sigmoid(A[-1]))\n",
    "            elif self.activation == \"relu\":\n",
    "                O.append(ReLU(A[-1]))\n",
    "            else:\n",
    "                raise ValueError(\"activation not known.\")\n",
    "            \n",
    "        A.append(np.dot(O[-1], self.W[-1].T) + self.b[-1])\n",
    "        O.append(sigmoid(A[-1]))\n",
    "\n",
    "        # When Y is none, simply return the predictions. Else compute the loss\n",
    "        if Y is not None:\n",
    "            loss = -np.sum((1 - Y) * np.log(1 - O[-1]) + Y * np.log(O[-1]))\n",
    "            # normalize loss by batch size\n",
    "            loss = loss.sum() / X.shape[0]\n",
    "        else:\n",
    "            loss = np.nan\n",
    "\n",
    "        if do_backward:\n",
    "            A_grad = [(O[-1] - Y) / X.shape[0]]\n",
    "            self.b_grad = []\n",
    "            self.W_grad = []\n",
    "\n",
    "            for idx in range(len(self.W) - 1):\n",
    "                self.b_grad.append(A_grad[idx].sum(0))\n",
    "                self.W_grad.append(np.dot(A_grad[idx].T, O[-(idx + 2)]))\n",
    "                O_grad = np.dot(A_grad[idx], self.backward_weights[-(idx + 1)].T)\n",
    "                if self.activation == \"sigmoid\":\n",
    "                    A_grad.append(O_grad * O[-(idx + 2)] * (1 - O[-(idx + 2)]))\n",
    "                elif self.activation == \"relu\":\n",
    "                    A_grad.append(O_grad * np.where(O[-(idx + 2)] == 0, 0, 1))\n",
    "                else:\n",
    "                    raise ValueError(\"activation not known.\")\n",
    "\n",
    "            self.b_grad.append(A_grad[-1].sum(0))\n",
    "            self.W_grad.append(np.dot(A_grad[-1].T, X))\n",
    "\n",
    "            self.b_grad = self.b_grad[::-1]\n",
    "            self.W_grad = self.W_grad[::-1]\n",
    "        return O[-1], loss\n",
    "\n",
    "    def backward(self, alpha: float = 0.1):\n",
    "        for W, W_grad in zip(self.W, self.W_grad):\n",
    "            W[:] = W[:] - alpha * W_grad\n",
    "\n",
    "        for b, b_grad in zip(self.b, self.b_grad):\n",
    "            b[:] = b[:] - alpha * b_grad"
   ]
  },
  {
   "cell_type": "code",
   "execution_count": 229,
   "metadata": {},
   "outputs": [
    {
     "name": "stdout",
     "output_type": "stream",
     "text": [
      "after      0 steps \tloss=6.938239e-01 \taccuracy=0.5\n",
      "after   2000 steps \tloss=6.931487e-01 \taccuracy=0.625\n",
      "after   4000 steps \tloss=6.931488e-01 \taccuracy=0.625\n",
      "after   6000 steps \tloss=6.931488e-01 \taccuracy=0.625\n",
      "after   8000 steps \tloss=6.931488e-01 \taccuracy=0.625\n",
      "after  10000 steps \tloss=6.931488e-01 \taccuracy=0.625\n",
      "after  12000 steps \tloss=6.931488e-01 \taccuracy=0.625\n",
      "after  14000 steps \tloss=6.931488e-01 \taccuracy=0.625\n",
      "after  16000 steps \tloss=6.931488e-01 \taccuracy=0.625\n",
      "after  18000 steps \tloss=6.931489e-01 \taccuracy=0.625\n",
      "after  20000 steps \tloss=6.931489e-01 \taccuracy=0.625\n",
      "after  22000 steps \tloss=6.931489e-01 \taccuracy=0.625\n",
      "after  24000 steps \tloss=6.931489e-01 \taccuracy=0.625\n",
      "after  26000 steps \tloss=6.931489e-01 \taccuracy=0.625\n",
      "after  28000 steps \tloss=6.931489e-01 \taccuracy=0.625\n"
     ]
    }
   ],
   "source": [
    "net = FeedbackAllignmentNet(3, 5 * [8], np.float64, \"sigmoid\")\n",
    "for i in range(30000):\n",
    "    y_hat, loss = net.forward(X3, Y3, do_backward=True)\n",
    "    net.backward(0.1)\n",
    "    if (i % 2000) == 0:\n",
    "        print(f\"after {i:6d} steps \\tloss={loss:.6e} \\taccuracy={(y_hat.round() == Y3).mean()}\")"
   ]
  },
  {
   "cell_type": "code",
   "execution_count": 230,
   "metadata": {},
   "outputs": [
    {
     "name": "stdout",
     "output_type": "stream",
     "text": [
      "after      0 steps \tloss=1.193274e+00 \taccuracy=0.5\n",
      "after   2000 steps \tloss=6.932188e-01 \taccuracy=0.75\n",
      "after   4000 steps \tloss=6.932293e-01 \taccuracy=0.75\n",
      "after   6000 steps \tloss=6.932445e-01 \taccuracy=0.75\n",
      "after   8000 steps \tloss=6.932651e-01 \taccuracy=0.625\n",
      "after  10000 steps \tloss=6.932888e-01 \taccuracy=0.5\n",
      "after  12000 steps \tloss=6.932956e-01 \taccuracy=0.5\n",
      "after  14000 steps \tloss=6.931913e-01 \taccuracy=0.5\n",
      "after  16000 steps \tloss=6.926430e-01 \taccuracy=0.75\n",
      "after  18000 steps \tloss=6.904084e-01 \taccuracy=0.75\n",
      "after  20000 steps \tloss=6.819219e-01 \taccuracy=0.75\n",
      "after  22000 steps \tloss=6.593111e-01 \taccuracy=0.75\n",
      "after  24000 steps \tloss=5.958851e-01 \taccuracy=0.75\n",
      "after  26000 steps \tloss=4.164928e-01 \taccuracy=1.0\n",
      "after  28000 steps \tloss=2.113350e-01 \taccuracy=1.0\n"
     ]
    }
   ],
   "source": [
    "net = FeedbackAllignmentNet(3, 2 * [8], np.float64, \"sigmoid\")\n",
    "for i in range(30000):\n",
    "    y_hat, loss = net.forward(X3, Y3, do_backward=True)\n",
    "    net.backward(0.1)\n",
    "    if (i % 2000) == 0:\n",
    "        print(f\"after {i:6d} steps \\tloss={loss:.6e} \\taccuracy={(y_hat.round() == Y3).mean()}\")"
   ]
  },
  {
   "cell_type": "code",
   "execution_count": null,
   "metadata": {},
   "outputs": [],
   "source": []
  }
 ],
 "metadata": {
  "colab": {
   "collapsed_sections": [],
   "include_colab_link": true,
   "name": "Assignment1.ipynb",
   "provenance": []
  },
  "deepnote": {},
  "deepnote_app_layout": "article",
  "deepnote_execution_queue": [],
  "deepnote_notebook_id": "1f038069-bae5-44e5-92ba-67bdff2c54a6",
  "kernelspec": {
   "display_name": "Python 3",
   "language": "python",
   "name": "python3"
  },
  "language_info": {
   "codemirror_mode": {
    "name": "ipython",
    "version": 3
   },
   "file_extension": ".py",
   "mimetype": "text/x-python",
   "name": "python",
   "nbconvert_exporter": "python",
   "pygments_lexer": "ipython3",
   "version": "3.9.5"
  }
 },
 "nbformat": 4,
 "nbformat_minor": 0
}
