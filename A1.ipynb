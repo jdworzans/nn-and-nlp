{
 "cells": [
  {
   "cell_type": "markdown",
   "source": "# NN 2022",
   "metadata": {
    "deepnote_app_coordinates": {
     "h": 5,
     "w": 12,
     "x": 0,
     "y": 0
    },
    "is_collapsed": false,
    "tags": [],
    "cell_id": "404fe76d-6335-4b7b-a4a5-e073ca73825e",
    "deepnote_cell_type": "text-cell-h1"
   }
  },
  {
   "cell_type": "markdown",
   "source": "## Assignment 1\n\n**Submission deadlines:** \n- get at least **2** points by Tuesday, 15.03.2022\n- remaining points: last lab session before or on Tuesday, 22.03.2022\n\n**Points:** Aim to get 8 out of 12 possible points\n\n## Submission instructions\nThe class is held on-site in lab rooms. Please prepare you notebook on your computer or anywhere in the cloud (try using DeepNote or Google Colab).\nMake sure you know all the questions and asnwers, and that the notebook contains results; bfore presentation do `Runtime -> Restart and run all`\n![Picture title](image-20220302-183151.png)\n\nWe provide starter code, however you are not required to use it as long as you properly solve the tasks.\n",
   "metadata": {
    "deepnote_app_coordinates": {
     "h": 5,
     "w": 12,
     "x": 0,
     "y": 6
    },
    "id": "CGXgWugfJ0Vl",
    "cell_id": "00001-9f25cf52-28e9-4f83-8af1-f25c1c5f1910",
    "deepnote_cell_type": "markdown",
    "deepnote_cell_height": 418.125
   }
  },
  {
   "cell_type": "markdown",
   "source": "# Task description\n\n## TLDR\nImplement and train a neural network using pure numpy.",
   "metadata": {
    "deepnote_app_coordinates": {
     "h": 5,
     "w": 12,
     "x": 0,
     "y": 12
    },
    "id": "5S8iRaCPyO2a",
    "cell_id": "00002-467d4f7c-b1fd-4a38-9743-bce105dc1f1b",
    "deepnote_cell_type": "markdown",
    "deepnote_cell_height": 176.390625
   }
  },
  {
   "cell_type": "markdown",
   "source": "\n## Problem 1 [2p]\nImplement a two-layer network, manually set weights and biases to solve the XOR task.\n\nA two-layer neural network implementes a function $f: \\mathbb{R}^D \\rightarrow \\mathbb{R}^O$ where $D$ is the input dimensionality and $O$ is the output dinemsionality. The output goes through an intermediate representation (the hidden layer) with dimensionality $H$. \n\nThe computations are as follows:\n$$\n\\begin{aligned}\nA_1 &= x W_1^T + b_1  & \\qquad\\text{Total input to neurons in the hidden layer (network's first layer)} \\\\\nO_1 &= \\sigma_1(A_1)  & \\qquad\\text{Output of the hidden layer} \\\\\nA_2 &= O_1 W_2^T + b_2 & \\qquad\\text{Total input to neurons in the output layer (network's second layer)}\\\\\nO_2 &= \\sigma_2(A_2)  & \\qquad\\text{Output of the network}\n\\end{aligned}\n$$\n\nWhere $W$ are weight matrices, $b$ are bias vectors, $\\sigma$ are non-linear activation functions (e.g. the logistic sigmoid applied element-wise, or softmax).\n\nFor the 2D xor problem the network will:\n- have 2 inputs, 2 hidden neurons, one output\n- use the logistic sigmoid everywhere (that way we, when hand-designig the weights, we can assume that neurons' outputs are binary).\n\nTherrefore the shapes of the data flowing through the network will be:\n- input: $x\\in\\mathbb{}R^{2}$\n- hidden layer parameters: $W_1\\in\\mathbb{}R^{2\\times 2}$ and $b_1\\in\\mathbb{}R^{2}$\n- representations in the hidden layer: $A_1\\in\\mathbb{}R^{2}$ and $O_1\\in\\mathbb{}R^{2}$\n- output layer parameters: $W_2\\in\\mathbb{}R^{1\\times 2}$ and $b_2\\in\\mathbb{}R^{1}$\n- representations in the output layer: $A_2\\in\\mathbb{}R^{1}$ and $O_2\\in\\mathbb{}R^{1}$\n\nThe network can be seen as a logistic regression model, prefixed by a nonlinear transformation of the data.\n\nThe first tasks consists of:\n- implementing the network\n- selecting parametwrs ($W_1, b_1, W_2, b_2$) such that $f(x)\\approx XOR(x_1, x_2)$ where the approximation is die to the sigmoids - the output may be close to 0 or 1, but doesn't need to saturate at 0 or 1.\n\nNB: the convention on weight matrix shapes follows linear [layers in PyTorch](https://pytorch.org/docs/stable/generated/torch.nn.Linear.html).\n",
   "metadata": {
    "deepnote_app_coordinates": {
     "h": 5,
     "w": 12,
     "x": 0,
     "y": 18
    },
    "id": "JHcz7I2V-bVM",
    "cell_id": "00003-b49a0011-3c5e-4f7e-bf92-4e45b1c74619",
    "deepnote_cell_type": "markdown",
    "deepnote_cell_height": 800.796875
   }
  },
  {
   "cell_type": "markdown",
   "source": "## Problem 2 [2p]\n1. Add a backward pass.\n2. Use a sensible random initialization for weights and biases.\n3. Numerically check the correctness of your gradient computation.\n\nThere is nice article about taking derivative over vectors and vector chain rule: https://explained.ai/matrix-calculus/ if someone don't have experience with suchr calculus.\n",
   "metadata": {
    "deepnote_app_coordinates": {
     "h": 5,
     "w": 12,
     "x": 0,
     "y": 24
    },
    "id": "0QSpZxuH-bLe",
    "cell_id": "00004-d8f9c747-63c5-4c54-b404-523ca3ec8a4c",
    "deepnote_cell_type": "markdown",
    "deepnote_cell_height": 195.5625
   }
  },
  {
   "cell_type": "markdown",
   "source": "## Problem 3 [2p]\n1. Implement gradient descent\n2. Train your network to solve 3D XOR\n3. Try several hidden layer sizes, for each size record the fracton of successful trainings. Then answer:\n    - What is the minimal hidden size required to solve 3D XOR (even with low reliability, when the training has to be repeated multiple times)\n    - What is the minimal hidden size required to reliably solve 3D XOR\n    - Which networks are easier to train - small or large ones? Why?\n",
   "metadata": {
    "deepnote_app_coordinates": {
     "h": 5,
     "w": 12,
     "x": 0,
     "y": 30
    },
    "id": "s1Tn8j0m-bAy",
    "cell_id": "00005-4cdbe891-e246-43bf-9d7d-89849148ee8c",
    "deepnote_cell_type": "markdown",
    "deepnote_cell_height": 249.34375
   }
  },
  {
   "cell_type": "markdown",
   "source": "## Problem 4 [1p]\nReplace the first nonlinearity with the [ReLU](https://en.wikipedia.org/wiki/Rectifier_(neural_networks)) activation function. Find a network architecture which reliably learns the 3D XOR problem.\n",
   "metadata": {
    "deepnote_app_coordinates": {
     "h": 5,
     "w": 12,
     "x": 0,
     "y": 36
    },
    "id": "RP9Pvpmf-a2A",
    "cell_id": "00006-9e2df4c3-0062-4162-916e-1c17cd36d950",
    "deepnote_cell_type": "markdown",
    "deepnote_cell_height": 108.390625
   }
  },
  {
   "cell_type": "markdown",
   "source": "## Problem 5 [1p]\nAdd a second hidden layer to your network, implement the forward and backward pass, then demonstrate training.\n",
   "metadata": {
    "deepnote_app_coordinates": {
     "h": 5,
     "w": 12,
     "x": 0,
     "y": 42
    },
    "id": "cGgtpe-w-asB",
    "cell_id": "00007-5f778f94-25ad-4f64-a823-464daf0c5255",
    "deepnote_cell_type": "markdown",
    "deepnote_cell_height": 108.390625
   }
  },
  {
   "cell_type": "markdown",
   "source": "## Problem 6 [2p]\nImplement a way to have a _variable number_ of hidden layers. Check how deep sigmoid or ReLU networks you  can train. For simplicity you can assume that all hidden layers have the same number of neurons, and use the same activation function.\n",
   "metadata": {
    "deepnote_app_coordinates": {
     "h": 5,
     "w": 12,
     "x": 0,
     "y": 48
    },
    "id": "Pe-pcFeO-aiE",
    "cell_id": "00008-a2c7b4c2-4128-45b0-a1ae-2125d1f97664",
    "deepnote_cell_type": "markdown",
    "deepnote_cell_height": 130.78125
   }
  },
  {
   "cell_type": "markdown",
   "source": "## Problem 7 [2p]\nFor each weight matrix $w\\in\\mathbb{R}^{n\\times m}$, add a randomly initialized `backward weight` $w_b\\in\\mathbb{R}^{m\\times n}$, which will not change during training. Change the backward pass to use $w_b$ instead of $w^T$, getting an approxmatoin of the true gradient. Can you get your network to train?\n\nNB: this approach, dubbed [feedback alignment](https://www.nature.com/articles/ncomms13276), was proposed to make error backpropagation more biologically plausible, by providing a solution to the \"weight transport problem\". Regular backpropagation requires that neurons not only know their incoming weights (thet they control), but also their outgoing weights (that are controlled by neurons in the upper layers). This is nearly impossible in a real brain.",
   "metadata": {
    "deepnote_app_coordinates": {
     "h": 5,
     "w": 12,
     "x": 0,
     "y": 54
    },
    "id": "kIpn17Cm-aW7",
    "cell_id": "00009-a7eb99aa-76d2-47a4-912e-894e0cce5c9c",
    "deepnote_cell_type": "markdown",
    "deepnote_cell_height": 211.953125
   }
  },
  {
   "cell_type": "markdown",
   "source": "# Solutions and starter code",
   "metadata": {
    "deepnote_app_coordinates": {
     "h": 5,
     "w": 12,
     "x": 0,
     "y": 60
    },
    "id": "rXJaoHSH0DZO",
    "cell_id": "00010-55453e63-a8e4-4570-86af-be6b9f68e534",
    "deepnote_cell_type": "markdown",
    "deepnote_cell_height": 82
   }
  },
  {
   "cell_type": "code",
   "metadata": {
    "deepnote_app_coordinates": {
     "h": 5,
     "w": 12,
     "x": 0,
     "y": 66
    },
    "id": "YiTEWD2oqW0Y",
    "cell_id": "00011-945d3e01-d9e1-4fbe-805a-07c9db9d8a1f",
    "deepnote_to_be_reexecuted": false,
    "source_hash": "bf903efd",
    "execution_start": 1647800749360,
    "execution_millis": 10268,
    "deepnote_cell_type": "code",
    "deepnote_cell_height": 135
   },
   "source": "import matplotlib.pyplot as plt\nimport numpy as np\nimport pandas as pd\nimport seaborn as sns",
   "execution_count": 1,
   "outputs": []
  },
  {
   "cell_type": "markdown",
   "source": "XOR dataset creation",
   "metadata": {
    "deepnote_app_coordinates": {
     "h": 5,
     "w": 12,
     "x": 0,
     "y": 72
    },
    "id": "eqtfJKR40J3x",
    "cell_id": "00012-2b197fd1-ac63-45f7-862b-8e6b580ae0b9",
    "deepnote_cell_type": "markdown",
    "deepnote_cell_height": 52.390625
   }
  },
  {
   "cell_type": "code",
   "metadata": {
    "colab": {
     "base_uri": "https://localhost:8080/",
     "height": 296
    },
    "deepnote_app_coordinates": {
     "h": 5,
     "w": 12,
     "x": 0,
     "y": 78
    },
    "id": "lYEbCfbSpv5M",
    "outputId": "48a99aad-e15b-4c7b-f881-bbfbe1941a15",
    "cell_id": "00013-6cf61f31-5b7f-4abb-8ad7-b80b9840335d",
    "deepnote_to_be_reexecuted": false,
    "source_hash": "2188275c",
    "execution_start": 1647800759695,
    "execution_millis": 721,
    "deepnote_cell_type": "code",
    "deepnote_cell_height": 629.1875,
    "deepnote_output_heights": [
     21.1875,
     264
    ]
   },
   "source": "# Let's define a XOR dataset\n\n# X will be matrix of N 2-dimensional inputs\nX = np.array([[0, 0], [0, 1], [1, 0], [1, 1],], dtype=np.float32)\n# Y is a matrix of N numners - answers\nY = np.array([[0], [1], [1], [0],], dtype=np.float32)\n\nplt.scatter(\n    X[:, 0], X[:, 1], c=Y[:, 0],\n)\nplt.xlabel(\"X[0]\")\nplt.ylabel(\"X[1]\")\nplt.axis(\"square\")",
   "execution_count": 2,
   "outputs": [
    {
     "output_type": "execute_result",
     "execution_count": 2,
     "data": {
      "text/plain": "(-0.05, 1.05, -0.05, 1.05)"
     },
     "metadata": {}
    },
    {
     "data": {
      "text/plain": "<Figure size 432x288 with 1 Axes>",
      "image/png": "[encoded data removed]"
     },
     "metadata": {
      "needs_background": "light",
      "image/png": {
       "width": 268,
       "height": 262
      }
     },
     "output_type": "display_data"
    }
   ]
  },
  {
   "cell_type": "markdown",
   "source": "## Problem 1",
   "metadata": {
    "deepnote_app_coordinates": {
     "h": 5,
     "w": 12,
     "x": 0,
     "y": 84
    },
    "id": "Rb3azMn929_I",
    "cell_id": "00014-151c37cc-2599-4aaf-916d-78e26bd95f73",
    "deepnote_cell_type": "markdown",
    "deepnote_cell_height": 70
   }
  },
  {
   "cell_type": "markdown",
   "source": "The code below contains a mock-up of a two-layer neural network. Fill in the code and manually set weights to solve the XOR problem.\n\nPlease note: the shapes are set to be compatible with PyTorch's conventions:\n* a batch containing $N$ $D$-dimensional examples has shape $N\\times D$ (each example is a row!)\n* a weight matrix in a linear layer with $I$ inputs and $O$ outputs has shape $O \\times I$\n* a bias vector is a 1D vector. Please note that [broadcasting rules](https://docs.scipy.org/doc/numpy/user/basics.broadcasting.html) allow us to think about it as a $1 \\times D$ matrix.",
   "metadata": {
    "deepnote_app_coordinates": {
     "h": 5,
     "w": 12,
     "x": 0,
     "y": 90
    },
    "id": "RZCM_hdELE04",
    "cell_id": "00015-19b8330e-56da-4944-a6b9-fb6f370e4738",
    "deepnote_cell_type": "markdown",
    "deepnote_cell_height": 189.953125
   }
  },
  {
   "cell_type": "code",
   "metadata": {
    "cell_id": "00016-4935fedf-9c63-4c82-a286-8713af059323",
    "deepnote_to_be_reexecuted": false,
    "source_hash": "a4acaf66",
    "execution_start": 1647800760451,
    "execution_millis": 9,
    "deepnote_cell_type": "code",
    "deepnote_cell_height": 99
   },
   "source": "def sigmoid(x):\n    return 1 / (1 + np.exp(-x))",
   "execution_count": 3,
   "outputs": []
  },
  {
   "cell_type": "code",
   "metadata": {
    "cell_id": "00017-f75f74c4-b7f6-4fc2-8716-9ddd1fbc7743",
    "deepnote_to_be_reexecuted": false,
    "source_hash": "6473edd3",
    "execution_start": 1647800760494,
    "execution_millis": 384,
    "deepnote_cell_type": "code",
    "deepnote_cell_height": 383,
    "deepnote_output_heights": [
     250
    ]
   },
   "source": "t = np.linspace(-5, 5)\nplt.plot(t, sigmoid(t))\nplt.show()",
   "execution_count": 4,
   "outputs": [
    {
     "data": {
      "text/plain": "<Figure size 432x288 with 1 Axes>",
      "image/png": "[encoded data removed]"
     },
     "metadata": {
      "needs_background": "light",
      "image/png": {
       "width": 372,
       "height": 248
      }
     },
     "output_type": "display_data"
    }
   ]
  },
  {
   "cell_type": "code",
   "metadata": {
    "deepnote_app_coordinates": {
     "h": 5,
     "w": 12,
     "x": 0,
     "y": 96
    },
    "id": "lrrRuk6zLiF0",
    "cell_id": "00018-b30ed8cd-e3ca-4a1d-87fb-9f1d52660e3b",
    "deepnote_to_be_reexecuted": false,
    "source_hash": "d7313fa3",
    "execution_start": 1647800761111,
    "execution_millis": 44,
    "deepnote_cell_type": "code",
    "deepnote_cell_height": 1071
   },
   "source": "class SmallNet:\n    def __init__(self, in_features, num_hidden, dtype=np.float32):\n        self.W1 = np.zeros((num_hidden, in_features), dtype=dtype)\n        self.b1 = np.zeros((num_hidden,), dtype=dtype)\n        self.W2 = np.zeros((1, num_hidden), dtype=dtype)\n        self.b2 = np.zeros((1,), dtype=dtype)\n        self.init_params()\n\n    def init_params(self):\n        self.W1 = np.random.normal(0, 0.5, self.W1.shape)\n        self.b1 = np.random.normal(0, 0.5, self.b1.shape)\n        self.W2 = np.random.normal(0, 0.5, self.W2.shape)\n        self.b2 = np.random.normal(0, 0.5, self.b2.shape)\n\n    def forward(self, X, Y=None, do_backward=False):\n        # TODO Problem 1: Fill in details of forward propagation\n\n        # Input to neurons in 1st layer\n        A1 = np.dot(X, self.W1.T) + self.b1\n        # Outputs after the sigmoid non-linearity\n        O1 = sigmoid(A1)\n        # print(O1)\n        # Inputs to neuron in the second layer\n        A2 = np.dot(O1, self.W2.T) + self.b2\n        # Outputs after the sigmoid non-linearity\n        O2 = sigmoid(A2)\n\n        # When Y is none, simply return the predictions. Else compute the loss\n        if Y is not None:\n            loss = -np.sum((1 - Y) * np.log(1 - O2) + Y * np.log(O2)) # TODO cross-entropy loss\n            # normalize loss by batch size\n            loss = loss.sum() / X.shape[0]\n        else:\n            loss = np.nan\n\n        if do_backward:\n            # TODO in Problem 2:\n            # fill in the gradient computation/\n            # Please note, that there is a correspondance between\n            # the forward and backward pass: with backward computations happening\n            # in reverse order.\n            # We save the gradients with respect to the parameters as fields of self.\n            # It is not very elegant, but simplifies training code later on.\n\n            # A2_grad is the gradient of loss with respect to A2\n            # Hint: there is a concise formula for the gradient\n            # of logistic sigmoid and cross-entropy loss\n            A2_grad = (O2 - Y) / X.shape[0]\n            self.b2_grad = A2_grad.sum(0)\n            self.W2_grad = np.dot(A2_grad.T, O1)\n            O1_grad = np.dot(A2_grad, self.W2)\n            A1_grad = O1_grad * O1 * (1 - O1)\n            self.b1_grad = A1_grad.sum(0)\n            self.W1_grad = np.dot(A1_grad.T, X)\n\n        return O2, loss",
   "execution_count": 5,
   "outputs": []
  },
  {
   "cell_type": "code",
   "metadata": {
    "colab": {
     "base_uri": "https://localhost:8080/"
    },
    "deepnote_app_coordinates": {
     "h": 5,
     "w": 12,
     "x": 0,
     "y": 102
    },
    "id": "jJswvBk0oiIY",
    "outputId": "e6559317-7afa-4509-fbac-4880e73b91cc",
    "cell_id": "00019-255503cc-e591-494a-9dc6-ef0f38b1cfa4",
    "deepnote_to_be_reexecuted": false,
    "source_hash": "cf947032",
    "execution_start": 1647800761171,
    "execution_millis": 33,
    "deepnote_cell_type": "code",
    "deepnote_cell_height": 424.75
   },
   "source": "# TODO Problem 1:\n# Set by hand the weight values to solve the XOR problem\n\nnet = SmallNet(2, 2, dtype=np.float64)\nnet.W1 = 10 * np.array([[1, -1], [-1, 1]])\nnet.b1 = -5 * np.array([1, 1])\nnet.W2 = 10 * np.array([[1, 1]])\nnet.b2 = 5 * np.array([-1])\n\n# Hint: since we use the logistic sigmoid activation, the weights may need to\n# be fairly large\n\npredictions, loss = net.forward(X, Y)#, do_backward=True)\nfor x, p in zip(X, predictions):\n    print(f\"XORnet({x}) = {p[0]}\")",
   "execution_count": 6,
   "outputs": [
    {
     "name": "stdout",
     "text": "XORnet([0. 0.]) = 0.007644135828260396\nXORnet([0. 1.]) = 0.9928472118111036\nXORnet([1. 0.]) = 0.9928472118111036\nXORnet([1. 1.]) = 0.007644135828260396\n",
     "output_type": "stream"
    }
   ]
  },
  {
   "cell_type": "markdown",
   "source": "## Problem 2",
   "metadata": {
    "deepnote_app_coordinates": {
     "h": 5,
     "w": 12,
     "x": 0,
     "y": 108
    },
    "id": "wmxCi5Vl6_xB",
    "cell_id": "00020-2556c89c-1056-4a7a-87dc-66e668ae2ba8",
    "deepnote_cell_type": "markdown",
    "deepnote_cell_height": 70
   }
  },
  {
   "cell_type": "code",
   "metadata": {
    "deepnote_app_coordinates": {
     "h": 5,
     "w": 12,
     "x": 0,
     "y": 114
    },
    "id": "eSM5hgJ1mrhY",
    "cell_id": "00021-d8f31d84-7ea5-4ed1-ae6d-500166997540",
    "deepnote_to_be_reexecuted": false,
    "source_hash": "e5739133",
    "execution_start": 1647800761268,
    "execution_millis": 1,
    "deepnote_cell_type": "code",
    "deepnote_cell_height": 477
   },
   "source": "def check_grad(net, param_name, X, Y, eps=1e-5):\n    \"\"\"A gradient checking routine\"\"\"\n\n    param = getattr(net, param_name)\n    param_flat_accessor = param.reshape(-1)\n\n    grad = np.empty_like(param)\n    grad_flat_accessor = grad.reshape(-1)\n\n    net.forward(X, Y, do_backward=True)\n    orig_grad = getattr(net, param_name + \"_grad\")\n    assert param.shape == orig_grad.shape, f\"{param_name} size doesn't match the gradient shape\"\n\n    for i in range(param_flat_accessor.shape[0]):\n        orig_val = param_flat_accessor[i]\n        param_flat_accessor[i] = orig_val + eps\n        _, loss_positive = net.forward(X, Y)\n        param_flat_accessor[i] = orig_val - eps\n        _, loss_negative = net.forward(X, Y)\n        param_flat_accessor[i] = orig_val\n        grad_flat_accessor[i] = (loss_positive - loss_negative) / (2 * eps)\n    assert np.allclose(grad, orig_grad)\n    return grad, orig_grad",
   "execution_count": 7,
   "outputs": []
  },
  {
   "cell_type": "code",
   "metadata": {
    "deepnote_app_coordinates": {
     "h": 5,
     "w": 12,
     "x": 0,
     "y": 120
    },
    "id": "TTZu0jFEvgXF",
    "cell_id": "00022-469419d1-d9c8-4718-aced-6234c3100b50",
    "deepnote_to_be_reexecuted": false,
    "source_hash": "d877662e",
    "execution_start": 1647800761316,
    "execution_millis": 2,
    "deepnote_cell_type": "code",
    "deepnote_cell_height": 153
   },
   "source": "# Hint: use float64 for checking the correctness of the gradient\nnet = SmallNet(2, 2, dtype=np.float64)\n\nfor param_name in [\"W1\", \"b1\", \"W2\", \"b2\"]:\n    check_grad(net, param_name, X, Y)",
   "execution_count": 8,
   "outputs": []
  },
  {
   "cell_type": "markdown",
   "source": "## Problem 3",
   "metadata": {
    "deepnote_app_coordinates": {
     "h": 5,
     "w": 12,
     "x": 0,
     "y": 126
    },
    "id": "8mUOs3cVvjM2",
    "cell_id": "00023-ff41941b-cac9-41e2-839c-731e7ef7c3cc",
    "deepnote_cell_type": "markdown",
    "deepnote_cell_height": 70
   }
  },
  {
   "cell_type": "code",
   "metadata": {
    "colab": {
     "base_uri": "https://localhost:8080/"
    },
    "deepnote_app_coordinates": {
     "h": 5,
     "w": 12,
     "x": 0,
     "y": 132
    },
    "id": "nn2AAoZo0vjU",
    "outputId": "7b6b5a9a-dea5-4357-e8c1-36a34c7c272a",
    "cell_id": "00024-8644aedf-c80d-4480-a770-4779a93c31d3",
    "deepnote_to_be_reexecuted": false,
    "source_hash": "d6804775",
    "execution_start": 1647800761380,
    "execution_millis": 41877,
    "deepnote_cell_type": "code",
    "deepnote_cell_height": 747.75
   },
   "source": "net = SmallNet(2, 10, dtype=np.float64)\n\nalpha = 0.1  # set a learning rate\n\nfor i in range(100000):\n    _, loss = net.forward(X, Y, do_backward=True)\n    if (i % 5000) == 0:\n        print(f\"after {i} steps \\tloss={loss}\")\n    for param_name in [\"W1\", \"b1\", \"W2\", \"b2\"]:\n        param = getattr(net, param_name)\n        # Hint: use the construct `param[:]` to change the contents of the array!\n        # Doing instead `param = new_val` simply changes to what the variable\n        # param points to, without affecting the network!\n        # alternatively, you could do setattr(net, param_name, new_value)\n        param[:] = param[:] - alpha * getattr(net, param_name + \"_grad\")",
   "execution_count": 9,
   "outputs": [
    {
     "name": "stdout",
     "text": "after 0 steps \tloss=0.6963123322012963\nafter 5000 steps \tloss=0.028932594455747782\nafter 10000 steps \tloss=0.008902325763582207\nafter 15000 steps \tloss=0.0051124090101034945\nafter 20000 steps \tloss=0.0035559731597063107\nafter 25000 steps \tloss=0.0027153199142089567\nafter 30000 steps \tloss=0.002191112837730128\nafter 35000 steps \tloss=0.001833799219679513\nafter 40000 steps \tloss=0.0015750049295246795\nafter 45000 steps \tloss=0.0013791211573919156\nafter 50000 steps \tloss=0.001225809302220623\nafter 55000 steps \tloss=0.0011026216686817534\nafter 60000 steps \tloss=0.0010015193949830796\nafter 65000 steps \tloss=0.0009170825827009296\nafter 70000 steps \tloss=0.0008455258952270661\nafter 75000 steps \tloss=0.0007841266048597307\nafter 80000 steps \tloss=0.0007308768102568475\nafter 85000 steps \tloss=0.00068426369334585\nafter 90000 steps \tloss=0.0006431260470732042\nafter 95000 steps \tloss=0.0006065579044718741\n",
     "output_type": "stream"
    }
   ]
  },
  {
   "cell_type": "code",
   "metadata": {
    "colab": {
     "base_uri": "https://localhost:8080/"
    },
    "deepnote_app_coordinates": {
     "h": 5,
     "w": 12,
     "x": 0,
     "y": 138
    },
    "id": "TwpEjpkU1JvK",
    "outputId": "dc044de9-81c1-4944-d9a2-5dcc72bf9a57",
    "cell_id": "00025-08198673-f06d-4e12-ac90-d566796b6cdd",
    "deepnote_to_be_reexecuted": false,
    "source_hash": "7b623984",
    "execution_start": 1647800803290,
    "execution_millis": 365,
    "deepnote_cell_type": "code",
    "deepnote_cell_height": 208.75
   },
   "source": "predictions, loss = net.forward(X, Y, do_backward=True)\nfor x, p in zip(X, predictions):\n    print(f\"XORnet({x}) = {p[0]}\")",
   "execution_count": 10,
   "outputs": [
    {
     "name": "stdout",
     "text": "XORnet([0. 0.]) = 0.00025122695268924255\nXORnet([0. 1.]) = 0.9996070441045728\nXORnet([1. 0.]) = 0.99923758122284\nXORnet([1. 1.]) = 0.0008879730343009348\n",
     "output_type": "stream"
    }
   ]
  },
  {
   "cell_type": "code",
   "metadata": {
    "cell_id": "00026-9e7f071c-a904-4720-a5b5-06545523b7af",
    "deepnote_to_be_reexecuted": false,
    "source_hash": "215f7c04",
    "execution_start": 1647800803338,
    "deepnote_cell_type": "code",
    "deepnote_cell_height": 81
   },
   "source": "from itertools import repeat, product",
   "execution_count": 11,
   "outputs": []
  },
  {
   "cell_type": "code",
   "metadata": {
    "cell_id": "00027-8eaad004-1890-4250-8a6a-6cf9ec32aa9f",
    "deepnote_to_be_reexecuted": false,
    "source_hash": "6eda2a71",
    "execution_start": 1647800803377,
    "deepnote_cell_type": "code",
    "deepnote_cell_height": 442,
    "deepnote_output_heights": [
     309
    ]
   },
   "source": "X3 = np.array(list(product(*repeat([0, 1], 3))))\nY3 = np.logical_xor.reduce(X3, axis=1, keepdims=True).astype(float)\nX3, Y3",
   "execution_count": 12,
   "outputs": [
    {
     "output_type": "execute_result",
     "execution_count": 12,
     "data": {
      "text/plain": "(array([[0, 0, 0],\n        [0, 0, 1],\n        [0, 1, 0],\n        [0, 1, 1],\n        [1, 0, 0],\n        [1, 0, 1],\n        [1, 1, 0],\n        [1, 1, 1]]),\n array([[0.],\n        [1.],\n        [1.],\n        [0.],\n        [1.],\n        [0.],\n        [0.],\n        [1.]]))"
     },
     "metadata": {}
    }
   ]
  },
  {
   "cell_type": "code",
   "metadata": {
    "cell_id": "00028-4d10c354-d023-4629-9f09-bbd069fff73b",
    "deepnote_to_be_reexecuted": false,
    "source_hash": "fa94b975",
    "execution_start": 1647800803456,
    "execution_millis": 202,
    "deepnote_cell_type": "code",
    "deepnote_cell_height": 118.1875,
    "deepnote_output_heights": [
     21.1875
    ]
   },
   "source": "np.log10(101) == np.log10(101).round()",
   "execution_count": 13,
   "outputs": [
    {
     "output_type": "execute_result",
     "execution_count": 13,
     "data": {
      "text/plain": "False"
     },
     "metadata": {}
    }
   ]
  },
  {
   "cell_type": "code",
   "metadata": {
    "cell_id": "00029-2169ce91-3510-43cb-831d-cd0a51a6df6c",
    "deepnote_to_be_reexecuted": false,
    "source_hash": "11b2dff6",
    "execution_start": 1647800803500,
    "deepnote_cell_type": "code",
    "deepnote_cell_height": 118.1875,
    "deepnote_output_heights": [
     21.1875
    ]
   },
   "source": "np.log10(101).round()",
   "execution_count": 14,
   "outputs": [
    {
     "output_type": "execute_result",
     "execution_count": 14,
     "data": {
      "text/plain": "2.0"
     },
     "metadata": {}
    }
   ]
  },
  {
   "cell_type": "code",
   "metadata": {
    "deepnote_app_coordinates": {
     "h": 5,
     "w": 12,
     "x": 0,
     "y": 144
    },
    "id": "U0ZMyHqz8xrC",
    "cell_id": "00030-20e43cbb-78df-4709-85df-79c2edd30d0c",
    "deepnote_to_be_reexecuted": false,
    "source_hash": "83206cc9",
    "execution_start": 1647800803501,
    "execution_millis": 923226,
    "deepnote_cell_type": "code",
    "deepnote_cell_height": 369
   },
   "source": "alpha = 0.1  # set a learning rate\nn_repeats = 10\nresults = []\n\nfor hidden_dim in [2, 3, 5, 10, 20]:\n    for _ in range(n_repeats):\n        net = SmallNet(3, hidden_dim, dtype=np.float64)\n        for i in range(1, 100001):\n            _, loss = net.forward(X3, Y3, do_backward=True)\n            for param_name in [\"W1\", \"b1\", \"W2\", \"b2\"]:\n                param = getattr(net, param_name)\n                param[:] = param[:] - alpha * getattr(net, param_name + \"_grad\")\n            \n            if (np.log10(i) == np.log10(i).round()):\n                results.append(\n                    {\"epochs\": i, \"accuracy\": (net.forward(X3)[0].round() == Y3).mean(), \"loss\": loss, \"hidden_dim\": hidden_dim}\n                )",
   "execution_count": 15,
   "outputs": []
  },
  {
   "cell_type": "code",
   "metadata": {
    "cell_id": "00031-d85647bf-b419-4bc5-bde5-ef94ca1b32ec",
    "deepnote_to_be_reexecuted": false,
    "source_hash": "e0c6f18c",
    "execution_start": 1647801726772,
    "execution_millis": 983,
    "deepnote_cell_type": "code",
    "deepnote_cell_height": 383,
    "deepnote_output_heights": [
     268
    ]
   },
   "source": "sns.lineplot(x=\"epochs\", y=\"accuracy\", hue=\"hidden_dim\", data=pd.DataFrame(results).groupby([\"hidden_dim\", \"epochs\"]).mean()[\"accuracy\"].reset_index())\nplt.xscale(\"log\")",
   "execution_count": 16,
   "outputs": [
    {
     "data": {
      "text/plain": "<Figure size 432x288 with 1 Axes>",
      "image/png": "[encoded data removed]"
     },
     "metadata": {
      "needs_background": "light",
      "image/png": {
       "width": 386,
       "height": 266
      }
     },
     "output_type": "display_data"
    }
   ]
  },
  {
   "cell_type": "code",
   "metadata": {
    "cell_id": "00032-d443e0bd-5f7a-4172-83a2-e55e4b63be84",
    "deepnote_to_be_reexecuted": false,
    "source_hash": "bd9f3230",
    "execution_start": 1647801727766,
    "execution_millis": 1246,
    "deepnote_cell_type": "code",
    "deepnote_cell_height": 383,
    "deepnote_output_heights": [
     268
    ]
   },
   "source": "sns.lineplot(x=\"epochs\", y=\"loss\", hue=\"hidden_dim\", data=pd.DataFrame(results).groupby([\"hidden_dim\", \"epochs\"]).mean()[\"loss\"].reset_index())\nplt.xscale(\"log\")",
   "execution_count": 17,
   "outputs": [
    {
     "data": {
      "text/plain": "<Figure size 432x288 with 1 Axes>",
      "image/png": "[encoded data removed]"
     },
     "metadata": {
      "needs_background": "light",
      "image/png": {
       "width": 386,
       "height": 266
      }
     },
     "output_type": "display_data"
    }
   ]
  },
  {
   "cell_type": "markdown",
   "source": "## Problem 4\n",
   "metadata": {
    "deepnote_app_coordinates": {
     "h": 5,
     "w": 12,
     "x": 0,
     "y": 150
    },
    "id": "UuaLEoV-9DLG",
    "cell_id": "00033-1a68a301-118f-4835-9e30-735f5408cafd",
    "deepnote_cell_type": "markdown",
    "deepnote_cell_height": 70
   }
  },
  {
   "cell_type": "code",
   "metadata": {
    "deepnote_app_coordinates": {
     "h": 5,
     "w": 12,
     "x": 0,
     "y": 156
    },
    "id": "w3lk9_TM-MvK",
    "cell_id": "00034-2056e2ee-0332-41f1-9a18-ffcd6068bf3d",
    "deepnote_to_be_reexecuted": false,
    "source_hash": "f36c7bf6",
    "execution_start": 1647801728619,
    "execution_millis": 0,
    "deepnote_cell_type": "code",
    "deepnote_cell_height": 747
   },
   "source": "class ReLUNet(SmallNet):\n    def forward(self, X, Y=None, do_backward=False):\n        # Input to neurons in 1st layer\n        A1 = np.dot(X, self.W1.T) + self.b1\n        # Outputs after the ReLU non-linearity\n        O1 = np.fmax(0, A1)\n        # Inputs to neuron in the second layer\n        A2 = np.dot(O1, self.W2.T) + self.b2\n        # Outputs after the sigmoid non-linearity\n        O2 = sigmoid(A2)\n\n        # When Y is none, simply return the predictions. Else compute the loss\n        if Y is not None:\n            loss = -np.sum((1 - Y) * np.log(1 - O2) + Y * np.log(O2)) # TODO cross-entropy loss\n            # normalize loss by batch size\n            loss = loss.sum() / X.shape[0]\n        else:\n            loss = np.nan\n\n        if do_backward:\n            # Please note, that there is a correspondance between\n            # the forward and backward pass: with backward computations happening\n            # in reverse order.\n            # We save the gradients with respect to the parameters as fields of self.\n            # It is not very elegant, but simplifies training code later on.\n\n            # A2_grad is the gradient of loss with respect to A2\n            # Hint: there is a concise formula for the gradient\n            # of logistic sigmoid and cross-entropy loss\n            A2_grad = (O2 - Y) / X.shape[0]\n            self.b2_grad = A2_grad.sum(0)\n            self.W2_grad = np.dot(A2_grad.T, O1)\n            O1_grad = np.dot(A2_grad, self.W2)\n            A1_grad = O1_grad * np.where(O1 == 0, 0, 1)\n            self.b1_grad = A1_grad.sum(0)\n            self.W1_grad = np.dot(A1_grad.T, X)\n\n        return O2, loss",
   "execution_count": 18,
   "outputs": []
  },
  {
   "cell_type": "code",
   "metadata": {
    "cell_id": "00035-ece2742c-68ea-4d70-bbae-7faf9f3ed2ae",
    "deepnote_to_be_reexecuted": false,
    "source_hash": "f88503b6",
    "execution_start": 1647801728647,
    "execution_millis": 15715,
    "deepnote_cell_type": "code",
    "deepnote_cell_height": 747.75
   },
   "source": "net = ReLUNet(3, 10)\n\nalpha = 0.01  # set a learning rate\n\nfor i in range(100000):\n    _, loss = net.forward(X3, Y3, do_backward=True)\n    if (i % 5000) == 0:\n        print(f\"after {i} steps \\tloss={loss}\")\n    for param_name in [\"W1\", \"b1\", \"W2\", \"b2\"]:\n        param = getattr(net, param_name)\n        # Hint: use the construct `param[:]` to change the contents of the array!\n        # Doing instead `param = new_val` simply changes to what the variable\n        # param points to, without affecting the network!\n        # alternatively, you could do setattr(net, param_name, new_value)\n        param[:] = param[:] - alpha * getattr(net, param_name + \"_grad\")",
   "execution_count": 19,
   "outputs": [
    {
     "name": "stdout",
     "text": "after 0 steps \tloss=0.8162663649350432\nafter 5000 steps \tloss=0.5883368170393728\nafter 10000 steps \tloss=0.44390531427033697\nafter 15000 steps \tloss=0.25374184634411523\nafter 20000 steps \tloss=0.10728986693007304\nafter 25000 steps \tloss=0.05477187139599242\nafter 30000 steps \tloss=0.03348377619052567\nafter 35000 steps \tloss=0.023315807403961296\nafter 40000 steps \tloss=0.017461102754035868\nafter 45000 steps \tloss=0.013748338505138393\nafter 50000 steps \tloss=0.011220258668995375\nafter 55000 steps \tloss=0.009409957470302365\nafter 60000 steps \tloss=0.008058526305590346\nafter 65000 steps \tloss=0.007017401395685627\nafter 70000 steps \tloss=0.006193877451799083\nafter 75000 steps \tloss=0.005528555612985445\nafter 80000 steps \tloss=0.004981561103108396\nafter 85000 steps \tloss=0.004524610237495178\nafter 90000 steps \tloss=0.0041383514090271535\nafter 95000 steps \tloss=0.003807625708777346\n",
     "output_type": "stream"
    }
   ]
  },
  {
   "cell_type": "code",
   "metadata": {
    "cell_id": "00036-a13c4a25-382b-4809-bf92-4ba4c233d8e4",
    "deepnote_to_be_reexecuted": false,
    "source_hash": "3b4e28ee",
    "execution_start": 1647801744371,
    "execution_millis": 171,
    "deepnote_cell_type": "code",
    "deepnote_cell_height": 112.1875
   },
   "source": "print(f\"accuracy: {(net.forward(X3)[0].round() == Y3).mean()}\")",
   "execution_count": 20,
   "outputs": [
    {
     "name": "stdout",
     "text": "accuracy: 1.0\n",
     "output_type": "stream"
    }
   ]
  },
  {
   "cell_type": "markdown",
   "source": "## Problem 5",
   "metadata": {
    "deepnote_app_coordinates": {
     "h": 5,
     "w": 12,
     "x": 0,
     "y": 162
    },
    "id": "_Hr_iAKX-ND1",
    "cell_id": "00037-45887b22-8d5c-40f7-bc1e-e39369649578",
    "deepnote_cell_type": "markdown",
    "deepnote_cell_height": 70
   }
  },
  {
   "cell_type": "code",
   "metadata": {
    "cell_id": "00038-85679282-618d-45ad-8843-ffd5c29523e6",
    "deepnote_to_be_reexecuted": false,
    "source_hash": "a10a3f58",
    "execution_start": 1647801744408,
    "execution_millis": 8,
    "deepnote_cell_type": "code",
    "deepnote_cell_height": 1017
   },
   "source": "class DeepNet:\n    def __init__(self, in_features, num_hidden, dtype=np.float32):\n        self.W1 = np.zeros((num_hidden[0], in_features), dtype=dtype)\n        self.b1 = np.zeros((num_hidden[0],), dtype=dtype)\n        self.W2 = np.zeros((num_hidden[1], num_hidden[0]), dtype=dtype)\n        self.b2 = np.zeros((num_hidden[1],), dtype=dtype)\n        self.W3 = np.zeros((1, num_hidden[1]), dtype=dtype)\n        self.b3 = np.zeros((1,), dtype=dtype)\n        self.init_params()\n\n    def init_params(self):\n        self.W1 = np.random.normal(0, 0.5, self.W1.shape)\n        self.b1 = np.random.normal(0, 0.5, self.b1.shape)\n        self.W2 = np.random.normal(0, 0.5, self.W2.shape)\n        self.b2 = np.random.normal(0, 0.5, self.b2.shape)\n        self.W3 = np.random.normal(0, 0.5, self.W3.shape)\n        self.b3 = np.random.normal(0, 0.5, self.b3.shape)\n\n    def forward(self, X, Y=None, do_backward=False):\n        # Input to neurons in 1st layer\n        A1 = np.dot(X, self.W1.T) + self.b1\n        O1 = sigmoid(A1)\n        \n        A2 = np.dot(O1, self.W2.T) + self.b2\n        O2 = sigmoid(A2)\n\n        A3 = np.dot(O2, self.W3.T) + self.b3\n        O3 = sigmoid(A3)\n\n        # When Y is none, simply return the predictions. Else compute the loss\n        if Y is not None:\n            loss = -np.sum((1 - Y) * np.log(1 - O3) + Y * np.log(O3)) # TODO cross-entropy loss\n            # normalize loss by batch size\n            loss = loss.sum() / X.shape[0]\n        else:\n            loss = np.nan\n\n        if do_backward:\n            A3_grad = (O3 - Y) / X.shape[0]\n            self.b3_grad = A3_grad.sum(0)\n            self.W3_grad = np.dot(A3_grad.T, O2)\n\n            O2_grad = np.dot(A3_grad, self.W3)\n            A2_grad = O2_grad * O2 * (1 - O2)\n            self.b2_grad = A2_grad.sum(0)\n            self.W2_grad = np.dot(A2_grad.T, O1)\n\n            O1_grad = np.dot(A2_grad, self.W2)\n            A1_grad = O1_grad * O1 * (1 - O1)\n            self.b1_grad = A1_grad.sum(0)\n            self.W1_grad = np.dot(A1_grad.T, X)\n\n        return O3, loss",
   "execution_count": 21,
   "outputs": []
  },
  {
   "cell_type": "code",
   "metadata": {
    "deepnote_app_coordinates": {
     "h": 5,
     "w": 12,
     "x": 0,
     "y": 168
    },
    "id": "rnz6CndQ-NRI",
    "cell_id": "00039-492167fa-f9d1-4107-b677-a30e38fbc275",
    "deepnote_to_be_reexecuted": false,
    "source_hash": "3bc915",
    "execution_start": 1647801744516,
    "execution_millis": 27837,
    "deepnote_cell_type": "code",
    "deepnote_cell_height": 747.75
   },
   "source": "net = DeepNet(3, [2, 2], dtype=np.float64)\n\nalpha = 0.1  # set a learning rate\n\nfor i in range(100000):\n    _, loss = net.forward(X3, Y3, do_backward=True)\n    if (i % 5000) == 0:\n        print(f\"after {i} steps \\tloss={loss}\")\n    for param_name in [\"W1\", \"b1\", \"W2\", \"b2\", \"W3\", \"b3\"]:\n        param = getattr(net, param_name)\n        # Hint: use the construct `param[:]` to change the contents of the array!\n        # Doing instead `param = new_val` simply changes to what the variable\n        # param points to, without affecting the network!\n        # alternatively, you could do setattr(net, param_name, new_value)\n        param[:] = param[:] - alpha * getattr(net, param_name + \"_grad\")",
   "execution_count": 22,
   "outputs": [
    {
     "name": "stdout",
     "text": "after 0 steps \tloss=0.7091192988713748\nafter 5000 steps \tloss=0.6931464318654379\nafter 10000 steps \tloss=0.693146359668597\nafter 15000 steps \tloss=0.693146283429062\nafter 20000 steps \tloss=0.6931462025377678\nafter 25000 steps \tloss=0.6931461163174114\nafter 30000 steps \tloss=0.6931460240077673\nafter 35000 steps \tloss=0.6931459247482701\nafter 40000 steps \tloss=0.6931458175571119\nafter 45000 steps \tloss=0.6931457013058882\nafter 50000 steps \tloss=0.693145574688552\nafter 55000 steps \tloss=0.6931454361830545\nafter 60000 steps \tloss=0.6931452840035269\nafter 65000 steps \tloss=0.6931451160401583\nafter 70000 steps \tloss=0.6931449297829231\nafter 75000 steps \tloss=0.6931447222239377\nafter 80000 steps \tloss=0.693144489731256\nafter 85000 steps \tloss=0.6931442278840881\nafter 90000 steps \tloss=0.6931439312553279\nafter 95000 steps \tloss=0.6931435931211982\n",
     "output_type": "stream"
    }
   ]
  },
  {
   "cell_type": "code",
   "metadata": {
    "cell_id": "00040-94f1cec2-717a-4f39-8e9d-a865eb227dab",
    "deepnote_to_be_reexecuted": false,
    "source_hash": "3b4e28ee",
    "execution_start": 1647801772362,
    "execution_millis": 20,
    "deepnote_cell_type": "code",
    "deepnote_cell_height": 112.1875
   },
   "source": "print(f\"accuracy: {(net.forward(X3)[0].round() == Y3).mean()}\")",
   "execution_count": 23,
   "outputs": [
    {
     "name": "stdout",
     "text": "accuracy: 0.375\n",
     "output_type": "stream"
    }
   ]
  },
  {
   "cell_type": "markdown",
   "source": "## Problem 6",
   "metadata": {
    "deepnote_app_coordinates": {
     "h": 5,
     "w": 12,
     "x": 0,
     "y": 174
    },
    "id": "4PcNxrCt-NcN",
    "cell_id": "00041-cf662e6f-439c-4e18-93c4-a95d67290ab7",
    "deepnote_cell_type": "markdown",
    "deepnote_cell_height": 70
   }
  },
  {
   "cell_type": "code",
   "metadata": {
    "deepnote_app_coordinates": {
     "h": 5,
     "w": 12,
     "x": 0,
     "y": 180
    },
    "id": "6Brepirl-Nln",
    "cell_id": "00042-4449befc-46a2-4aed-b0b2-3c5057dbc6ac",
    "deepnote_to_be_reexecuted": false,
    "source_hash": "59e3fb00",
    "execution_start": 1647801772395,
    "execution_millis": 62,
    "deepnote_cell_type": "code",
    "deepnote_cell_height": 1233
   },
   "source": "from typing import List\n\nclass Net:\n    def __init__(self, in_features, num_hidden: List[int], dtype=np.float32):\n        # First layer\n        self.W = [np.zeros((num_hidden[0], in_features), dtype=dtype)]\n        self.b = [np.zeros((num_hidden[0],), dtype=dtype)]\n\n        # Add other layers\n        for i in range(1, len(num_hidden)):\n            self.W.append(np.zeros((num_hidden[i], num_hidden[i - 1]), dtype=dtype))\n            self.b.append(np.zeros((num_hidden[i], ), dtype=dtype))\n\n        # Last layer\n        self.W.append(np.zeros((1, num_hidden[-1]), dtype=dtype))\n        self.b.append(np.zeros((1, ), dtype=dtype))\n\n        self.init_params()\n\n    def init_params(self):\n        for W, b in zip(self.W, self.b):\n            W[:] = np.random.normal(0, 0.5, W.shape)\n            b[:] = np.random.normal(0, 0.5, b.shape)\n\n    def forward(self, X, Y=None, do_backward=False):\n        # Input to neurons in 1st layer\n        A = [np.dot(X, self.W[0].T) + self.b[0]]\n        O = [sigmoid(A[0])]\n\n        for W, b in zip(self.W[1:], self.b[1:]):\n            A.append(np.dot(O[-1], W.T) + b)\n            O.append(sigmoid(A[-1]))\n\n        # When Y is none, simply return the predictions. Else compute the loss\n        if Y is not None:\n            loss = -np.sum((1 - Y) * np.log(1 - O[-1]) + Y * np.log(O[-1]))\n            # normalize loss by batch size\n            loss = loss.sum() / X.shape[0]\n        else:\n            loss = np.nan\n\n        if do_backward:\n            A_grad = [(O[-1] - Y) / X.shape[0]]\n            self.b_grad = []\n            self.W_grad = []\n\n            for idx in range(len(self.W) - 1):\n                self.b_grad.append(A_grad[idx].sum(0))\n                self.W_grad.append(np.dot(A_grad[idx].T, O[-(idx + 2)]))\n                O_grad = np.dot(A_grad[idx], self.W[-(idx + 1)])\n                A_grad.append(O_grad * O[-(idx + 2)] * (1 - O[-(idx + 2)]))\n\n            self.b_grad.append(A_grad[-1].sum(0))\n            self.W_grad.append(np.dot(A_grad[-1].T, X))\n\n            self.b_grad = self.b_grad[::-1]\n            self.W_grad = self.W_grad[::-1]\n        return O[-1], loss\n\n    def backward(self, alpha: float = 0.1):\n        for W, W_grad in zip(self.W, self.W_grad):\n            W[:] = W[:] - alpha * W_grad\n\n        for b, b_grad in zip(self.b, self.b_grad):\n            b[:] = b[:] - alpha * b_grad",
   "execution_count": 24,
   "outputs": []
  },
  {
   "cell_type": "code",
   "metadata": {
    "cell_id": "00043-dd065236-e397-4fd9-a2f9-acdb234b94d4",
    "deepnote_to_be_reexecuted": false,
    "source_hash": "a7ba7889",
    "execution_start": 1647801772457,
    "execution_millis": 0,
    "deepnote_cell_type": "code",
    "deepnote_cell_height": 99
   },
   "source": "def ReLU(x):\n    return np.fmax(0, x)",
   "execution_count": 25,
   "outputs": []
  },
  {
   "cell_type": "code",
   "metadata": {
    "cell_id": "00044-a708d55b-1e81-455b-b966-cf141e43cb25",
    "deepnote_to_be_reexecuted": false,
    "source_hash": "1fd51fe6",
    "execution_start": 1647801772458,
    "execution_millis": 77,
    "deepnote_cell_type": "code",
    "deepnote_cell_height": 1647
   },
   "source": "from typing import List, Union\n\nclass Net:\n    def __init__(self, in_features, num_hidden: Union[List[int], int], dtype=np.float32, activation=\"sigmoid\"):\n        if isinstance(num_hidden, int):\n            num_hidden = [num_hidden]\n\n        self.activation = activation.lower()\n\n        # First layer\n        self.W = [np.zeros((num_hidden[0], in_features), dtype=dtype)]\n        self.b = [np.zeros((num_hidden[0],), dtype=dtype)]\n\n        # Add other layers\n        for i in range(1, len(num_hidden)):\n            self.W.append(np.zeros((num_hidden[i], num_hidden[i - 1]), dtype=dtype))\n            self.b.append(np.zeros((num_hidden[i], ), dtype=dtype))\n\n        # Last layer\n        self.W.append(np.zeros((1, num_hidden[-1]), dtype=dtype))\n        self.b.append(np.zeros((1, ), dtype=dtype))\n\n        self.init_params()\n\n    def init_params(self):\n        for W, b in zip(self.W, self.b):\n            W[:] = np.random.normal(0, 0.5, W.shape)\n            b[:] = np.random.normal(0, 0.5, b.shape)\n\n    def forward(self, X, Y=None, do_backward=False):\n        # Input to neurons in 1st layer\n        A = [np.dot(X, self.W[0].T) + self.b[0]]\n        if self.activation == \"sigmoid\":\n            O = [sigmoid(A[0])]\n        elif self.activation == \"relu\":\n            O = [ReLU(A[0])]\n        else:\n            raise ValueError(\"activation not known.\")\n\n        for W, b in zip(self.W[1:-1], self.b[1:-1]):\n            A.append(np.dot(O[-1], W.T) + b)\n            if self.activation == \"sigmoid\":\n                O.append(sigmoid(A[-1]))\n            elif self.activation == \"relu\":\n                O.append(ReLU(A[-1]))\n            else:\n                raise ValueError(\"activation not known.\")\n            \n        A.append(np.dot(O[-1], self.W[-1].T) + self.b[-1])\n        O.append(sigmoid(A[-1]))\n\n        # When Y is none, simply return the predictions. Else compute the loss\n        if Y is not None:\n            loss = -np.sum((1 - Y) * np.log(1 - O[-1]) + Y * np.log(O[-1]))\n            # normalize loss by batch size\n            loss = loss.sum() / X.shape[0]\n        else:\n            loss = np.nan\n\n        if do_backward:\n            A_grad = [(O[-1] - Y) / X.shape[0]]\n            self.b_grad = []\n            self.W_grad = []\n\n            for idx in range(len(self.W) - 1):\n                self.b_grad.append(A_grad[idx].sum(0))\n                self.W_grad.append(np.dot(A_grad[idx].T, O[-(idx + 2)]))\n                O_grad = np.dot(A_grad[idx], self.W[-(idx + 1)])\n                if self.activation == \"sigmoid\":\n                    A_grad.append(O_grad * O[-(idx + 2)] * (1 - O[-(idx + 2)]))\n                elif self.activation == \"relu\":\n                    A_grad.append(O_grad * np.where(O[-(idx + 2)] == 0, 0, 1))\n                else:\n                    raise ValueError(\"activation not known.\")\n\n            self.b_grad.append(A_grad[-1].sum(0))\n            self.W_grad.append(np.dot(A_grad[-1].T, X))\n\n            self.b_grad = self.b_grad[::-1]\n            self.W_grad = self.W_grad[::-1]\n        return O[-1], loss\n\n    def backward(self, alpha: float = 0.1):\n        for W, W_grad in zip(self.W, self.W_grad):\n            W[:] = W[:] - alpha * W_grad\n\n        for b, b_grad in zip(self.b, self.b_grad):\n            b[:] = b[:] - alpha * b_grad",
   "execution_count": 26,
   "outputs": []
  },
  {
   "cell_type": "code",
   "metadata": {
    "cell_id": "00045-eb1a7b64-f64e-4f4d-a2c7-a7a5070fc0b3",
    "deepnote_to_be_reexecuted": false,
    "source_hash": "aa0a49c8",
    "execution_start": 1647801772535,
    "execution_millis": 27439,
    "deepnote_cell_type": "code",
    "deepnote_cell_height": 585.75
   },
   "source": "net = Net(3, 2 * [10], np.float64)\nfor i in range(100000):\n    y_hat, loss = net.forward(X3, Y3, do_backward=True)\n    net.backward(0.1)\n    if (i % 5000) == 0:\n        print(f\"after {i:6d} steps \\tloss={loss:.6e} \\taccuracy={(y_hat.round() == Y3).mean()}\")",
   "execution_count": 27,
   "outputs": [
    {
     "name": "stdout",
     "text": "after      0 steps \tloss=7.045071e-01 \taccuracy=0.5\nafter   5000 steps \tloss=6.878353e-01 \taccuracy=0.75\nafter  10000 steps \tloss=1.229543e-02 \taccuracy=1.0\nafter  15000 steps \tloss=2.592589e-03 \taccuracy=1.0\nafter  20000 steps \tloss=1.341622e-03 \taccuracy=1.0\nafter  25000 steps \tloss=8.827031e-04 \taccuracy=1.0\nafter  30000 steps \tloss=6.497813e-04 \taccuracy=1.0\nafter  35000 steps \tloss=5.104793e-04 \taccuracy=1.0\nafter  40000 steps \tloss=4.184218e-04 \taccuracy=1.0\nafter  45000 steps \tloss=3.533507e-04 \taccuracy=1.0\nafter  50000 steps \tloss=3.050698e-04 \taccuracy=1.0\nafter  55000 steps \tloss=2.679108e-04 \taccuracy=1.0\nafter  60000 steps \tloss=2.384811e-04 \taccuracy=1.0\nafter  65000 steps \tloss=2.146306e-04 \taccuracy=1.0\nafter  70000 steps \tloss=1.949332e-04 \taccuracy=1.0\nafter  75000 steps \tloss=1.784068e-04 \taccuracy=1.0\nafter  80000 steps \tloss=1.643542e-04 \taccuracy=1.0\nafter  85000 steps \tloss=1.522669e-04 \taccuracy=1.0\nafter  90000 steps \tloss=1.417657e-04 \taccuracy=1.0\nafter  95000 steps \tloss=1.325624e-04 \taccuracy=1.0\n",
     "output_type": "stream"
    }
   ]
  },
  {
   "cell_type": "code",
   "metadata": {
    "cell_id": "00046-991958e2-dd48-4c0c-8ab2-6261889f8f66",
    "deepnote_to_be_reexecuted": false,
    "source_hash": "72f4e69d",
    "execution_start": 1647801799994,
    "execution_millis": 22712,
    "deepnote_cell_type": "code",
    "deepnote_cell_height": 585.75
   },
   "source": "net = Net(3, 2 * [10], np.float64, \"relu\")\nfor i in range(100000):\n    y_hat, loss = net.forward(X3, Y3, do_backward=True)\n    net.backward(0.1)\n    if (i % 5000) == 0:\n        print(f\"after {i:6d} steps \\tloss={loss:.6e} \\taccuracy={(y_hat.round() == Y3).mean()}\")",
   "execution_count": 28,
   "outputs": [
    {
     "name": "stdout",
     "text": "after      0 steps \tloss=7.151827e-01 \taccuracy=0.5\nafter   5000 steps \tloss=3.952706e-04 \taccuracy=1.0\nafter  10000 steps \tloss=1.633950e-04 \taccuracy=1.0\nafter  15000 steps \tloss=9.899737e-05 \taccuracy=1.0\nafter  20000 steps \tloss=6.975651e-05 \taccuracy=1.0\nafter  25000 steps \tloss=5.330552e-05 \taccuracy=1.0\nafter  30000 steps \tloss=4.285470e-05 \taccuracy=1.0\nafter  35000 steps \tloss=3.567154e-05 \taccuracy=1.0\nafter  40000 steps \tloss=3.045333e-05 \taccuracy=1.0\nafter  45000 steps \tloss=2.650022e-05 \taccuracy=1.0\nafter  50000 steps \tloss=2.340973e-05 \taccuracy=1.0\nafter  55000 steps \tloss=2.093204e-05 \taccuracy=1.0\nafter  60000 steps \tloss=1.890391e-05 \taccuracy=1.0\nafter  65000 steps \tloss=1.721572e-05 \taccuracy=1.0\nafter  70000 steps \tloss=1.578975e-05 \taccuracy=1.0\nafter  75000 steps \tloss=1.457015e-05 \taccuracy=1.0\nafter  80000 steps \tloss=1.351648e-05 \taccuracy=1.0\nafter  85000 steps \tloss=1.259722e-05 \taccuracy=1.0\nafter  90000 steps \tloss=1.178896e-05 \taccuracy=1.0\nafter  95000 steps \tloss=1.107292e-05 \taccuracy=1.0\n",
     "output_type": "stream"
    }
   ]
  },
  {
   "cell_type": "code",
   "metadata": {
    "cell_id": "00047-d0d1a914-af9d-449f-b773-da73226cbe91",
    "deepnote_to_be_reexecuted": false,
    "source_hash": "72a87bf8",
    "execution_start": 1647801822717,
    "execution_millis": 45748,
    "deepnote_cell_type": "code",
    "deepnote_cell_height": 585.75
   },
   "source": "net = Net(3, 5 * [8], np.float64, \"relu\")\nfor i in range(100000):\n    y_hat, loss = net.forward(X3, Y3, do_backward=True)\n    net.backward(0.1)\n    if (i % 5000) == 0:\n        print(f\"after {i:6d} steps \\tloss={loss:.6e} \\taccuracy={(y_hat.round() == Y3).mean()}\")",
   "execution_count": 29,
   "outputs": [
    {
     "name": "stdout",
     "text": "after      0 steps \tloss=7.045973e-01 \taccuracy=0.375\nafter   5000 steps \tloss=8.304026e-05 \taccuracy=1.0\nafter  10000 steps \tloss=3.400505e-05 \taccuracy=1.0\nafter  15000 steps \tloss=2.047660e-05 \taccuracy=1.0\nafter  20000 steps \tloss=1.435681e-05 \taccuracy=1.0\nafter  25000 steps \tloss=1.093084e-05 \taccuracy=1.0\nafter  30000 steps \tloss=8.762864e-06 \taccuracy=1.0\nafter  35000 steps \tloss=7.279615e-06 \taccuracy=1.0\nafter  40000 steps \tloss=6.202652e-06 \taccuracy=1.0\nafter  45000 steps \tloss=5.388071e-06 \taccuracy=1.0\nafter  50000 steps \tloss=4.752085e-06 \taccuracy=1.0\nafter  55000 steps \tloss=4.242928e-06 \taccuracy=1.0\nafter  60000 steps \tloss=3.826412e-06 \taccuracy=1.0\nafter  65000 steps \tloss=3.480229e-06 \taccuracy=1.0\nafter  70000 steps \tloss=3.188135e-06 \taccuracy=1.0\nafter  75000 steps \tloss=2.938563e-06 \taccuracy=1.0\nafter  80000 steps \tloss=2.723112e-06 \taccuracy=1.0\nafter  85000 steps \tloss=2.535431e-06 \taccuracy=1.0\nafter  90000 steps \tloss=2.370441e-06 \taccuracy=1.0\nafter  95000 steps \tloss=2.224460e-06 \taccuracy=1.0\n",
     "output_type": "stream"
    }
   ]
  },
  {
   "cell_type": "code",
   "metadata": {
    "cell_id": "00048-3ade0de5-5673-452a-9eef-a4339db79cea",
    "deepnote_to_be_reexecuted": false,
    "source_hash": "a0bd49d7",
    "execution_start": 1647801868466,
    "execution_millis": 58522,
    "deepnote_cell_type": "code",
    "deepnote_cell_height": 585.75
   },
   "source": "net = Net(3, 7 * [8], np.float64, \"relu\")\nfor i in range(100000):\n    y_hat, loss = net.forward(X3, Y3, do_backward=True)\n    net.backward(0.1)\n    if (i % 5000) == 0:\n        print(f\"after {i:6d} steps \\tloss={loss:.6e} \\taccuracy={(y_hat.round() == Y3).mean()}\")",
   "execution_count": 30,
   "outputs": [
    {
     "name": "stdout",
     "text": "after      0 steps \tloss=1.182528e+00 \taccuracy=0.5\nafter   5000 steps \tloss=2.800468e-05 \taccuracy=1.0\nafter  10000 steps \tloss=1.124179e-05 \taccuracy=1.0\nafter  15000 steps \tloss=6.661116e-06 \taccuracy=1.0\nafter  20000 steps \tloss=4.628350e-06 \taccuracy=1.0\nafter  25000 steps \tloss=3.503195e-06 \taccuracy=1.0\nafter  30000 steps \tloss=2.798009e-06 \taccuracy=1.0\nafter  35000 steps \tloss=2.324725e-06 \taccuracy=1.0\nafter  40000 steps \tloss=1.980627e-06 \taccuracy=1.0\nafter  45000 steps \tloss=1.720043e-06 \taccuracy=1.0\nafter  50000 steps \tloss=1.516786e-06 \taccuracy=1.0\nafter  55000 steps \tloss=1.353844e-06 \taccuracy=1.0\nafter  60000 steps \tloss=1.220566e-06 \taccuracy=1.0\nafter  65000 steps \tloss=1.109640e-06 \taccuracy=1.0\nafter  70000 steps \tloss=1.016037e-06 \taccuracy=1.0\nafter  75000 steps \tloss=9.360711e-07 \taccuracy=1.0\nafter  80000 steps \tloss=8.670257e-07 \taccuracy=1.0\nafter  85000 steps \tloss=8.068522e-07 \taccuracy=1.0\nafter  90000 steps \tloss=7.539886e-07 \taccuracy=1.0\nafter  95000 steps \tloss=7.072047e-07 \taccuracy=1.0\n",
     "output_type": "stream"
    }
   ]
  },
  {
   "cell_type": "code",
   "metadata": {
    "cell_id": "00049-edfc57ed-db72-4e60-b58b-d2fc02b0c28e",
    "deepnote_to_be_reexecuted": false,
    "source_hash": "b0e8af23",
    "execution_start": 1647801927001,
    "execution_millis": 68558,
    "deepnote_cell_type": "code",
    "deepnote_cell_height": 585.75
   },
   "source": "net = Net(3, 10 * [8], np.float64, \"relu\")\nfor i in range(100000):\n    y_hat, loss = net.forward(X3, Y3, do_backward=True)\n    net.backward(0.1)\n    if (i % 5000) == 0:\n        print(f\"after {i:6d} steps \\tloss={loss:.6e} \\taccuracy={(y_hat.round() == Y3).mean()}\")",
   "execution_count": 31,
   "outputs": [
    {
     "name": "stdout",
     "text": "after      0 steps \tloss=7.324172e-01 \taccuracy=0.5\nafter   5000 steps \tloss=3.128005e-01 \taccuracy=0.875\nafter  10000 steps \tloss=3.127714e-01 \taccuracy=0.875\nafter  15000 steps \tloss=3.127629e-01 \taccuracy=0.875\nafter  20000 steps \tloss=3.127604e-01 \taccuracy=0.875\nafter  25000 steps \tloss=3.127583e-01 \taccuracy=0.875\nafter  30000 steps \tloss=3.127563e-01 \taccuracy=0.875\nafter  35000 steps \tloss=3.127553e-01 \taccuracy=0.875\nafter  40000 steps \tloss=3.127554e-01 \taccuracy=0.875\nafter  45000 steps \tloss=3.127543e-01 \taccuracy=0.875\nafter  50000 steps \tloss=3.127540e-01 \taccuracy=0.875\nafter  55000 steps \tloss=3.127536e-01 \taccuracy=0.875\nafter  60000 steps \tloss=3.127548e-01 \taccuracy=0.875\nafter  65000 steps \tloss=3.127533e-01 \taccuracy=0.875\nafter  70000 steps \tloss=3.127690e-01 \taccuracy=0.875\nafter  75000 steps \tloss=3.127557e-01 \taccuracy=0.875\nafter  80000 steps \tloss=3.127529e-01 \taccuracy=0.875\nafter  85000 steps \tloss=3.127528e-01 \taccuracy=0.875\nafter  90000 steps \tloss=3.127527e-01 \taccuracy=0.875\nafter  95000 steps \tloss=3.127526e-01 \taccuracy=0.875\n",
     "output_type": "stream"
    }
   ]
  },
  {
   "cell_type": "code",
   "metadata": {
    "cell_id": "00050-a59a1e2c-bd96-48c9-a2e1-05e926fa450e",
    "deepnote_to_be_reexecuted": false,
    "source_hash": "20618355",
    "execution_start": 1647801995596,
    "execution_millis": 26381,
    "deepnote_cell_type": "code",
    "deepnote_cell_height": 484.8125
   },
   "source": "net = Net(3, 12 * [8], np.float64, \"relu\")\nfor i in range(30000):\n    y_hat, loss = net.forward(X3, Y3, do_backward=True)\n    net.backward(0.1)\n    if (i % 2000) == 0:\n        print(f\"after {i:6d} steps \\tloss={loss:.6e} \\taccuracy={(y_hat.round() == Y3).mean()}\")",
   "execution_count": 32,
   "outputs": [
    {
     "name": "stdout",
     "text": "after      0 steps \tloss=6.933769e-01 \taccuracy=0.5\nafter   2000 steps \tloss=6.931472e-01 \taccuracy=0.5\nafter   4000 steps \tloss=6.931472e-01 \taccuracy=0.5\nafter   6000 steps \tloss=6.931472e-01 \taccuracy=0.5\nafter   8000 steps \tloss=6.931472e-01 \taccuracy=0.5\nafter  10000 steps \tloss=6.931472e-01 \taccuracy=0.5\nafter  12000 steps \tloss=6.931472e-01 \taccuracy=0.5\nafter  14000 steps \tloss=6.931472e-01 \taccuracy=0.5\nafter  16000 steps \tloss=6.931472e-01 \taccuracy=0.5\nafter  18000 steps \tloss=6.931472e-01 \taccuracy=0.5\nafter  20000 steps \tloss=6.931472e-01 \taccuracy=0.5\nafter  22000 steps \tloss=6.931472e-01 \taccuracy=0.5\nafter  24000 steps \tloss=6.931472e-01 \taccuracy=0.5\nafter  26000 steps \tloss=6.931472e-01 \taccuracy=0.5\nafter  28000 steps \tloss=6.931472e-01 \taccuracy=0.5\n",
     "output_type": "stream"
    }
   ]
  },
  {
   "cell_type": "code",
   "metadata": {
    "cell_id": "00051-8463c655-e0b9-47ff-9181-f9b25459f5dc",
    "deepnote_to_be_reexecuted": false,
    "source_hash": "a0bd49d7",
    "execution_start": 1647802022000,
    "execution_millis": 48664,
    "deepnote_cell_type": "code",
    "deepnote_cell_height": 585.75
   },
   "source": "net = Net(3, 7 * [8], np.float64, \"relu\")\nfor i in range(100000):\n    y_hat, loss = net.forward(X3, Y3, do_backward=True)\n    net.backward(0.1)\n    if (i % 5000) == 0:\n        print(f\"after {i:6d} steps \\tloss={loss:.6e} \\taccuracy={(y_hat.round() == Y3).mean()}\")",
   "execution_count": 33,
   "outputs": [
    {
     "name": "stdout",
     "text": "after      0 steps \tloss=7.347329e-01 \taccuracy=0.5\nafter   5000 steps \tloss=1.712248e-05 \taccuracy=1.0\nafter  10000 steps \tloss=7.287916e-06 \taccuracy=1.0\nafter  15000 steps \tloss=4.475988e-06 \taccuracy=1.0\nafter  20000 steps \tloss=3.174524e-06 \taccuracy=1.0\nafter  25000 steps \tloss=2.423006e-06 \taccuracy=1.0\nafter  30000 steps \tloss=1.947514e-06 \taccuracy=1.0\nafter  35000 steps \tloss=1.621301e-06 \taccuracy=1.0\nafter  40000 steps \tloss=1.384516e-06 \taccuracy=1.0\nafter  45000 steps \tloss=1.205270e-06 \taccuracy=1.0\nafter  50000 steps \tloss=1.065160e-06 \taccuracy=1.0\nafter  55000 steps \tloss=9.528253e-07 \taccuracy=1.0\nafter  60000 steps \tloss=8.608846e-07 \taccuracy=1.0\nafter  65000 steps \tloss=7.843243e-07 \taccuracy=1.0\nafter  70000 steps \tloss=7.196457e-07 \taccuracy=1.0\nafter  75000 steps \tloss=6.643272e-07 \taccuracy=1.0\nafter  80000 steps \tloss=6.165161e-07 \taccuracy=1.0\nafter  85000 steps \tloss=5.748281e-07 \taccuracy=1.0\nafter  90000 steps \tloss=5.381525e-07 \taccuracy=1.0\nafter  95000 steps \tloss=5.056494e-07 \taccuracy=1.0\n",
     "output_type": "stream"
    }
   ]
  },
  {
   "cell_type": "code",
   "metadata": {
    "cell_id": "00052-8e1f59a7-2e10-4b7d-9899-28d8efca7377",
    "deepnote_to_be_reexecuted": false,
    "source_hash": "379e188e",
    "execution_start": 1647802070672,
    "execution_millis": 23228,
    "deepnote_cell_type": "code",
    "deepnote_cell_height": 484.8125
   },
   "source": "net = Net(3, 12 * [8], np.float64, \"sigmoid\")\nfor i in range(30000):\n    y_hat, loss = net.forward(X3, Y3, do_backward=True)\n    net.backward(0.1)\n    if (i % 2000) == 0:\n        print(f\"after {i:6d} steps \\tloss={loss:.6e} \\taccuracy={(y_hat.round() == Y3).mean()}\")",
   "execution_count": 34,
   "outputs": [
    {
     "name": "stdout",
     "text": "after      0 steps \tloss=7.158116e-01 \taccuracy=0.5\nafter   2000 steps \tloss=6.931472e-01 \taccuracy=0.5\nafter   4000 steps \tloss=6.931472e-01 \taccuracy=0.5\nafter   6000 steps \tloss=6.931472e-01 \taccuracy=0.5\nafter   8000 steps \tloss=6.931472e-01 \taccuracy=0.5\nafter  10000 steps \tloss=6.931472e-01 \taccuracy=0.5\nafter  12000 steps \tloss=6.931472e-01 \taccuracy=0.5\nafter  14000 steps \tloss=6.931472e-01 \taccuracy=0.5\nafter  16000 steps \tloss=6.931472e-01 \taccuracy=0.5\nafter  18000 steps \tloss=6.931472e-01 \taccuracy=0.5\nafter  20000 steps \tloss=6.931472e-01 \taccuracy=0.5\nafter  22000 steps \tloss=6.931472e-01 \taccuracy=0.5\nafter  24000 steps \tloss=6.931472e-01 \taccuracy=0.5\nafter  26000 steps \tloss=6.931472e-01 \taccuracy=0.5\nafter  28000 steps \tloss=6.931472e-01 \taccuracy=0.5\n",
     "output_type": "stream"
    }
   ]
  },
  {
   "cell_type": "markdown",
   "source": "## Problem 7",
   "metadata": {
    "deepnote_app_coordinates": {
     "h": 5,
     "w": 12,
     "x": 0,
     "y": 186
    },
    "id": "nWuv7Q77-Nut",
    "cell_id": "00053-6a4cbed5-38f7-4dc2-a730-e8854f3ab14c",
    "deepnote_cell_type": "markdown",
    "deepnote_cell_height": 70
   }
  },
  {
   "cell_type": "code",
   "metadata": {
    "deepnote_app_coordinates": {
     "h": 5,
     "w": 12,
     "x": 0,
     "y": 192
    },
    "id": "avuvSoWY-N4Z",
    "cell_id": "00054-200ca3c2-5683-42dc-ab13-4b1cd593dd7a",
    "deepnote_to_be_reexecuted": false,
    "source_hash": "7f59b837",
    "execution_start": 1647802093908,
    "execution_millis": 34,
    "deepnote_cell_type": "code",
    "deepnote_cell_height": 1701
   },
   "source": "from typing import List, Union\n\nclass FeedbackAllignmentNet:\n    def __init__(self, in_features, num_hidden: Union[List[int], int], dtype=np.float32, activation=\"sigmoid\"):\n        if isinstance(num_hidden, int):\n            num_hidden = [num_hidden]\n\n        self.activation = activation.lower()\n\n        # First layer\n        self.W = [np.zeros((num_hidden[0], in_features), dtype=dtype)]\n        self.b = [np.zeros((num_hidden[0],), dtype=dtype)]\n\n        # Add other layers\n        for i in range(1, len(num_hidden)):\n            self.W.append(np.zeros((num_hidden[i], num_hidden[i - 1]), dtype=dtype))\n            self.b.append(np.zeros((num_hidden[i], ), dtype=dtype))\n\n        # Last layer\n        self.W.append(np.zeros((1, num_hidden[-1]), dtype=dtype))\n        self.b.append(np.zeros((1, ), dtype=dtype))\n\n        self.init_params()\n\n    def init_params(self):\n        self.backward_weights = []\n\n        for W, b in zip(self.W, self.b):\n            W[:] = np.random.normal(0, 0.5, W.shape)\n            b[:] = np.random.normal(0, 0.5, b.shape)\n            self.backward_weights.append(np.random.normal(0, 0.5, W.T.shape))\n\n    def forward(self, X, Y=None, do_backward=False):\n        # Input to neurons in 1st layer\n        A = [np.dot(X, self.W[0].T) + self.b[0]]\n        if self.activation == \"sigmoid\":\n            O = [sigmoid(A[0])]\n        elif self.activation == \"relu\":\n            O = [ReLU(A[0])]\n        else:\n            raise ValueError(\"activation not known.\")\n\n        for W, b in zip(self.W[1:-1], self.b[1:-1]):\n            A.append(np.dot(O[-1], W.T) + b)\n            if self.activation == \"sigmoid\":\n                O.append(sigmoid(A[-1]))\n            elif self.activation == \"relu\":\n                O.append(ReLU(A[-1]))\n            else:\n                raise ValueError(\"activation not known.\")\n            \n        A.append(np.dot(O[-1], self.W[-1].T) + self.b[-1])\n        O.append(sigmoid(A[-1]))\n\n        # When Y is none, simply return the predictions. Else compute the loss\n        if Y is not None:\n            loss = -np.sum((1 - Y) * np.log(1 - O[-1]) + Y * np.log(O[-1]))\n            # normalize loss by batch size\n            loss = loss.sum() / X.shape[0]\n        else:\n            loss = np.nan\n\n        if do_backward:\n            A_grad = [(O[-1] - Y) / X.shape[0]]\n            self.b_grad = []\n            self.W_grad = []\n\n            for idx in range(len(self.W) - 1):\n                self.b_grad.append(A_grad[idx].sum(0))\n                self.W_grad.append(np.dot(A_grad[idx].T, O[-(idx + 2)]))\n                O_grad = np.dot(A_grad[idx], self.backward_weights[-(idx + 1)].T)\n                if self.activation == \"sigmoid\":\n                    A_grad.append(O_grad * O[-(idx + 2)] * (1 - O[-(idx + 2)]))\n                elif self.activation == \"relu\":\n                    A_grad.append(O_grad * np.where(O[-(idx + 2)] == 0, 0, 1))\n                else:\n                    raise ValueError(\"activation not known.\")\n\n            self.b_grad.append(A_grad[-1].sum(0))\n            self.W_grad.append(np.dot(A_grad[-1].T, X))\n\n            self.b_grad = self.b_grad[::-1]\n            self.W_grad = self.W_grad[::-1]\n        return O[-1], loss\n\n    def backward(self, alpha: float = 0.1):\n        for W, W_grad in zip(self.W, self.W_grad):\n            W[:] = W[:] - alpha * W_grad\n\n        for b, b_grad in zip(self.b, self.b_grad):\n            b[:] = b[:] - alpha * b_grad",
   "execution_count": 35,
   "outputs": []
  },
  {
   "cell_type": "code",
   "metadata": {
    "cell_id": "00055-c6b7a5a9-bfdc-4030-804a-3513e03d382e",
    "deepnote_to_be_reexecuted": false,
    "source_hash": "96a3fb9e",
    "execution_start": 1647802093954,
    "execution_millis": 12007,
    "deepnote_cell_type": "code",
    "deepnote_cell_height": 484.8125
   },
   "source": "net = FeedbackAllignmentNet(3, 5 * [8], np.float64, \"sigmoid\")\nfor i in range(30000):\n    y_hat, loss = net.forward(X3, Y3, do_backward=True)\n    net.backward(0.1)\n    if (i % 2000) == 0:\n        print(f\"after {i:6d} steps \\tloss={loss:.6e} \\taccuracy={(y_hat.round() == Y3).mean()}\")",
   "execution_count": 36,
   "outputs": [
    {
     "name": "stdout",
     "text": "after      0 steps \tloss=8.845535e-01 \taccuracy=0.5\nafter   2000 steps \tloss=6.931477e-01 \taccuracy=0.5\nafter   4000 steps \tloss=6.931477e-01 \taccuracy=0.5\nafter   6000 steps \tloss=6.931477e-01 \taccuracy=0.5\nafter   8000 steps \tloss=6.931477e-01 \taccuracy=0.5\nafter  10000 steps \tloss=6.931477e-01 \taccuracy=0.5\nafter  12000 steps \tloss=6.931477e-01 \taccuracy=0.5\nafter  14000 steps \tloss=6.931477e-01 \taccuracy=0.5\nafter  16000 steps \tloss=6.931477e-01 \taccuracy=0.5\nafter  18000 steps \tloss=6.931477e-01 \taccuracy=0.5\nafter  20000 steps \tloss=6.931477e-01 \taccuracy=0.5\nafter  22000 steps \tloss=6.931477e-01 \taccuracy=0.5\nafter  24000 steps \tloss=6.931477e-01 \taccuracy=0.5\nafter  26000 steps \tloss=6.931477e-01 \taccuracy=0.5\nafter  28000 steps \tloss=6.931477e-01 \taccuracy=0.5\n",
     "output_type": "stream"
    }
   ]
  },
  {
   "cell_type": "code",
   "metadata": {
    "cell_id": "00056-e17988ba-daa1-4b25-836f-c9d3ee08b0f1",
    "deepnote_to_be_reexecuted": false,
    "source_hash": "e471f0e3",
    "execution_start": 1647802105971,
    "execution_millis": 7130,
    "deepnote_cell_type": "code",
    "deepnote_cell_height": 485
   },
   "source": "net = FeedbackAllignmentNet(3, 2 * [8], np.float64, \"sigmoid\")\nfor i in range(30000):\n    y_hat, loss = net.forward(X3, Y3, do_backward=True)\n    net.backward(0.1)\n    if (i % 2000) == 0:\n        print(f\"after {i:6d} steps \\tloss={loss:.6e} \\taccuracy={(y_hat.round() == Y3).mean()}\")",
   "execution_count": 37,
   "outputs": [
    {
     "name": "stdout",
     "text": "after      0 steps \tloss=6.937305e-01 \taccuracy=0.625\nafter   2000 steps \tloss=6.931187e-01 \taccuracy=0.375\nafter   4000 steps \tloss=6.927120e-01 \taccuracy=0.375\nafter   6000 steps \tloss=6.915275e-01 \taccuracy=0.5\nafter   8000 steps \tloss=6.875188e-01 \taccuracy=0.75\nafter  10000 steps \tloss=6.751284e-01 \taccuracy=0.75\nafter  12000 steps \tloss=6.356888e-01 \taccuracy=0.75\nafter  14000 steps \tloss=4.920509e-01 \taccuracy=1.0\nafter  16000 steps \tloss=2.614069e-01 \taccuracy=1.0\nafter  18000 steps \tloss=1.278636e-01 \taccuracy=1.0\nafter  20000 steps \tloss=7.270326e-02 \taccuracy=1.0\nafter  22000 steps \tloss=4.745700e-02 \taccuracy=1.0\nafter  24000 steps \tloss=3.402614e-02 \taccuracy=1.0\nafter  26000 steps \tloss=2.599605e-02 \taccuracy=1.0\nafter  28000 steps \tloss=2.076820e-02 \taccuracy=1.0\n",
     "output_type": "stream"
    }
   ]
  },
  {
   "cell_type": "code",
   "metadata": {
    "cell_id": "00057-29aeb7a7-c359-4f20-92d1-0ff3bb6d1835",
    "deepnote_to_be_reexecuted": false,
    "source_hash": "b623e53d",
    "execution_start": 1647802112701,
    "execution_millis": 4,
    "deepnote_cell_type": "code",
    "deepnote_cell_height": 81
   },
   "source": "",
   "execution_count": 37,
   "outputs": []
  },
  {
   "cell_type": "markdown",
   "source": "<a style='text-decoration:none;line-height:16px;display:flex;color:#5B5B62;padding:10px;justify-content:end;' href='https://deepnote.com?utm_source=created-in-deepnote-cell&projectId=7dfe7d92-83a2-44ca-8f65-82cd0b077078' target=\"_blank\">\n<img alt='Created in deepnote.com' style='display:inline;max-height:16px;margin:0px;margin-right:7.5px;' src='data:image/svg+xml;base64,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' > </img>\nCreated in <span style='font-weight:600;margin-left:4px;'>Deepnote</span></a>",
   "metadata": {
    "tags": [],
    "created_in_deepnote_cell": true,
    "deepnote_cell_type": "markdown"
   }
  }
 ],
 "nbformat": 4,
 "nbformat_minor": 0,
 "metadata": {
  "colab": {
   "collapsed_sections": [],
   "include_colab_link": true,
   "name": "Assignment1.ipynb",
   "provenance": []
  },
  "deepnote": {},
  "deepnote_app_layout": "article",
  "deepnote_execution_queue": [],
  "deepnote_notebook_id": "afa86780-116b-444f-aed1-5597c87c0bb2",
  "kernelspec": {
   "display_name": "Python 3",
   "language": "python",
   "name": "python3"
  },
  "language_info": {
   "codemirror_mode": {
    "name": "ipython",
    "version": 3
   },
   "file_extension": ".py",
   "mimetype": "text/x-python",
   "name": "python",
   "nbconvert_exporter": "python",
   "pygments_lexer": "ipython3",
   "version": "3.9.5"
  }
 }
}